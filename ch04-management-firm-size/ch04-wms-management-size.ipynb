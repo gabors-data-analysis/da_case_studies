{
 "cells": [
  {
   "cell_type": "markdown",
   "metadata": {},
   "source": [
    "#### Prepared for Gabor's Data Analysis\n",
    "\n",
    "### Data Analysis for Business, Economics, and Policy\n",
    "by Gabor Bekes and  Gabor Kezdi\n",
    " \n",
    "Cambridge University Press 2021\n",
    "\n",
    "**[gabors-data-analysis.com ](https://gabors-data-analysis.com/)**\n",
    "\n",
    " License: Free to share, modify and use for educational purposes. \n",
    " Not to be used for commercial purposes.\n",
    "\n",
    "### Chapter 04\n",
    "**CH04A Management quality and firm size: describing patterns of association**\n",
    "\n",
    "using the wms-management-survey dataset\n",
    "\n",
    "version 1.0 2021-05-05"
   ]
  },
  {
   "cell_type": "code",
   "execution_count": 1,
   "metadata": {},
   "outputs": [],
   "source": [
    "import os\n",
    "import sys\n",
    "import numpy as np\n",
    "import pandas as pd\n",
    "import warnings\n",
    "import seaborn as sns\n",
    "from matplotlib.ticker import PercentFormatter\n",
    "import matplotlib.pyplot as plt\n",
    "\n",
    "warnings.filterwarnings(\"ignore\")"
   ]
  },
  {
   "cell_type": "code",
   "execution_count": 2,
   "metadata": {},
   "outputs": [],
   "source": [
    "# Current script folder\n",
    "current_path = os.getcwd()\n",
    "dirname = current_path.split(\"da_case_studies\")[0]\n",
    "# location folders\n",
    "data_in = dirname + \"da_data_repo/wms-management-survey/clean/\"\n",
    "data_out = dirname + \"da_case_studies/ch04-management-firm-size/\"\n",
    "output = dirname + \"da_case_studies/ch04-management-firm-size/output/\"\n",
    "func = dirname + \"da_case_studies/ch00-tech-prep/\"\n",
    "sys.path.append(func)"
   ]
  },
  {
   "cell_type": "code",
   "execution_count": 3,
   "metadata": {},
   "outputs": [],
   "source": [
    "import py_helper_functions as da\n",
    "sns.set_theme(rc=da.da_theme, palette=da.color)"
   ]
  },
  {
   "cell_type": "code",
   "execution_count": 4,
   "metadata": {},
   "outputs": [],
   "source": [
    "# Import data\n",
    "df = pd.read_csv(data_in + \"wms_da_textbook.csv\")\n",
    "# df = pd.read_csv(\"https://osf.io/uzpce/download\")\n",
    "\n"
   ]
  },
  {
   "cell_type": "code",
   "execution_count": 5,
   "metadata": {},
   "outputs": [],
   "source": [
    "# Sample selection\n",
    "df = df.loc[\n",
    "    (df[\"country\"] == \"Mexico\")\n",
    "    & (df[\"wave\"] == 2013)\n",
    "    & (df[\"emp_firm\"] >= 100)\n",
    "    & (df[\"emp_firm\"] <= 5000)\n",
    "]"
   ]
  },
  {
   "cell_type": "code",
   "execution_count": 6,
   "metadata": {},
   "outputs": [
    {
     "data": {
      "text/plain": [
       "count     300.000000\n",
       "mean      761.140000\n",
       "std       977.035685\n",
       "min       100.000000\n",
       "25%       200.000000\n",
       "50%       353.000000\n",
       "75%       900.000000\n",
       "max      5000.000000\n",
       "Name: emp_firm, dtype: float64"
      ]
     },
     "execution_count": 6,
     "metadata": {},
     "output_type": "execute_result"
    }
   ],
   "source": [
    "df.emp_firm.describe()\n"
   ]
  },
  {
   "cell_type": "code",
   "execution_count": 7,
   "metadata": {},
   "outputs": [
    {
     "data": {
      "text/html": [
       "<div>\n",
       "<style scoped>\n",
       "    .dataframe tbody tr th:only-of-type {\n",
       "        vertical-align: middle;\n",
       "    }\n",
       "\n",
       "    .dataframe tbody tr th {\n",
       "        vertical-align: top;\n",
       "    }\n",
       "\n",
       "    .dataframe thead th {\n",
       "        text-align: right;\n",
       "    }\n",
       "</style>\n",
       "<table border=\"1\" class=\"dataframe\">\n",
       "  <thead>\n",
       "    <tr style=\"text-align: right;\">\n",
       "      <th></th>\n",
       "      <th>management</th>\n",
       "      <th>emp_firm</th>\n",
       "    </tr>\n",
       "  </thead>\n",
       "  <tbody>\n",
       "    <tr>\n",
       "      <th>count</th>\n",
       "      <td>300.000000</td>\n",
       "      <td>300.000000</td>\n",
       "    </tr>\n",
       "    <tr>\n",
       "      <th>mean</th>\n",
       "      <td>2.938519</td>\n",
       "      <td>761.140000</td>\n",
       "    </tr>\n",
       "    <tr>\n",
       "      <th>std</th>\n",
       "      <td>0.601059</td>\n",
       "      <td>977.035685</td>\n",
       "    </tr>\n",
       "    <tr>\n",
       "      <th>min</th>\n",
       "      <td>1.277778</td>\n",
       "      <td>100.000000</td>\n",
       "    </tr>\n",
       "    <tr>\n",
       "      <th>25%</th>\n",
       "      <td>2.555556</td>\n",
       "      <td>200.000000</td>\n",
       "    </tr>\n",
       "    <tr>\n",
       "      <th>50%</th>\n",
       "      <td>2.944444</td>\n",
       "      <td>353.000000</td>\n",
       "    </tr>\n",
       "    <tr>\n",
       "      <th>75%</th>\n",
       "      <td>3.277778</td>\n",
       "      <td>900.000000</td>\n",
       "    </tr>\n",
       "    <tr>\n",
       "      <th>max</th>\n",
       "      <td>4.611111</td>\n",
       "      <td>5000.000000</td>\n",
       "    </tr>\n",
       "  </tbody>\n",
       "</table>\n",
       "</div>"
      ],
      "text/plain": [
       "       management     emp_firm\n",
       "count  300.000000   300.000000\n",
       "mean     2.938519   761.140000\n",
       "std      0.601059   977.035685\n",
       "min      1.277778   100.000000\n",
       "25%      2.555556   200.000000\n",
       "50%      2.944444   353.000000\n",
       "75%      3.277778   900.000000\n",
       "max      4.611111  5000.000000"
      ]
     },
     "execution_count": 7,
     "metadata": {},
     "output_type": "execute_result"
    }
   ],
   "source": [
    "# Save workfile\n",
    "df.to_csv(data_out + \"ch04-wms-work.csv\", index=False)\n",
    "# Summary\n",
    "df.filter([\"management\", \"emp_firm\"]).describe()\n"
   ]
  },
  {
   "cell_type": "markdown",
   "metadata": {},
   "source": [
    "### Figure 4.1 Distribution of the management score variable"
   ]
  },
  {
   "cell_type": "code",
   "execution_count": 8,
   "metadata": {},
   "outputs": [
    {
     "data": {
      "image/png": "[encoded data removed]",
      "text/plain": [
       "<Figure size 700x550 with 1 Axes>"
      ]
     },
     "metadata": {},
     "output_type": "display_data"
    }
   ],
   "source": [
    "\n",
    "sns.histplot(\n",
    "    data=df,\n",
    "    x=\"management\",\n",
    "    binwidth=0.25,  \n",
    "    binrange=(1,5),\n",
    "    color=da.color[0],\n",
    "    edgecolor=\"white\",\n",
    "    stat=\"probability\",  \n",
    "    alpha=1,\n",
    ")\n",
    "\n",
    "plt.xlabel(\"Management score\")\n",
    "plt.ylabel(\"Percent\")\n",
    "plt.ylim(0, 0.25)\n",
    "plt.yticks(ticks=np.arange(0, 0.26, 0.05))\n",
    "plt.gca().yaxis.set_major_formatter(PercentFormatter(1))\n",
    "plt.xlim(1, 5)\n",
    "plt.xticks(ticks=np.arange(1, 6, 1))\n",
    "plt.show()"
   ]
  },
  {
   "cell_type": "markdown",
   "metadata": {},
   "source": [
    "### Figure 4.2 The distribution of employment"
   ]
  },
  {
   "cell_type": "markdown",
   "metadata": {},
   "source": [
    "(a) Number of employees"
   ]
  },
  {
   "cell_type": "code",
   "execution_count": 9,
   "metadata": {},
   "outputs": [
    {
     "data": {
      "image/png": "[encoded data removed]",
      "text/plain": [
       "<Figure size 700x550 with 1 Axes>"
      ]
     },
     "metadata": {},
     "output_type": "display_data"
    }
   ],
   "source": [
    "sns.histplot(\n",
    "    data=df,\n",
    "    x=\"emp_firm\",\n",
    "    binwidth=200,  \n",
    "    binrange=(0,5000),\n",
    "    color=da.color[0],\n",
    "    edgecolor=\"white\",\n",
    "    stat=\"probability\",  \n",
    "    alpha=1,\n",
    ")\n",
    "\n",
    "plt.xlabel(\"Firm size (employment)\")\n",
    "plt.ylabel(\"Percent\")\n",
    "plt.ylim(0, 0.3)\n",
    "plt.yticks(ticks=np.arange(0, 0.31, 0.05))\n",
    "plt.gca().yaxis.set_major_formatter(PercentFormatter(1))\n",
    "plt.xlim(0, 5000)\n",
    "plt.xticks(ticks=np.arange(0, 5001, 1000))  \n",
    "plt.show()"
   ]
  },
  {
   "cell_type": "code",
   "execution_count": 10,
   "metadata": {},
   "outputs": [
    {
     "data": {
      "text/plain": [
       "count    300.000000\n",
       "mean       6.081850\n",
       "std        0.992700\n",
       "min        4.605170\n",
       "25%        5.298317\n",
       "50%        5.866432\n",
       "75%        6.802395\n",
       "max        8.517193\n",
       "Name: lnemp, dtype: float64"
      ]
     },
     "execution_count": 10,
     "metadata": {},
     "output_type": "execute_result"
    }
   ],
   "source": [
    "df[\"lnemp\"] = np.log(df.emp_firm)\n",
    "df[\"lnemp\"].describe()\n"
   ]
  },
  {
   "cell_type": "markdown",
   "metadata": {},
   "source": [
    "(b) Natural log of number of employees"
   ]
  },
  {
   "cell_type": "code",
   "execution_count": 11,
   "metadata": {},
   "outputs": [
    {
     "data": {
      "image/png": "[encoded data removed]",
      "text/plain": [
       "<Figure size 700x550 with 1 Axes>"
      ]
     },
     "metadata": {},
     "output_type": "display_data"
    }
   ],
   "source": [
    "sns.histplot(\n",
    "    data=df,\n",
    "    x=\"lnemp\",\n",
    "    binwidth=0.25,  \n",
    "    binrange=(4,9),\n",
    "    color=da.color[0],\n",
    "    edgecolor=\"white\",\n",
    "    stat=\"probability\",  \n",
    "    alpha=1,\n",
    ")\n",
    "\n",
    "plt.xlabel(\"Firm size (ln(employment))\")\n",
    "plt.ylabel(\"Percent\")\n",
    "plt.ylim(0, 0.2)\n",
    "plt.yticks(ticks=np.arange(0, 0.21, 0.04))\n",
    "plt.gca().yaxis.set_major_formatter(PercentFormatter(1))\n",
    "plt.xlim(4, 9)\n",
    "plt.xticks(ticks=np.arange(4, 9, 1))  \n",
    "plt.show()"
   ]
  },
  {
   "cell_type": "code",
   "execution_count": 12,
   "metadata": {},
   "outputs": [],
   "source": [
    "df[\"emp3bins\"] = np.where(df[\"emp_firm\"] < 200, 1, np.nan)\n",
    "df[\"emp3bins\"] = np.where(\n",
    "    (df[\"emp_firm\"] >= 200) & (df[\"emp_firm\"] < 1000), 2, df[\"emp3bins\"]\n",
    ")\n",
    "df[\"emp3bins\"] = np.where(df[\"emp_firm\"] >= 1000, 3, df[\"emp3bins\"])"
   ]
  },
  {
   "cell_type": "code",
   "execution_count": 13,
   "metadata": {},
   "outputs": [
    {
     "data": {
      "text/plain": [
       "count    300.000000\n",
       "mean       2.000000\n",
       "std        0.693978\n",
       "min        1.000000\n",
       "25%        2.000000\n",
       "50%        2.000000\n",
       "75%        2.000000\n",
       "max        3.000000\n",
       "Name: emp3bins, dtype: float64"
      ]
     },
     "execution_count": 13,
     "metadata": {},
     "output_type": "execute_result"
    }
   ],
   "source": [
    "df[\"emp3bins\"].describe()\n"
   ]
  },
  {
   "cell_type": "markdown",
   "metadata": {},
   "source": [
    "### Figure 4.3 Quality of specific management practices by three bins of firm size: conditional probabilities"
   ]
  },
  {
   "cell_type": "markdown",
   "metadata": {},
   "source": [
    "(a) Lean management"
   ]
  },
  {
   "cell_type": "code",
   "execution_count": 14,
   "metadata": {},
   "outputs": [],
   "source": [
    "df1 = (\n",
    "    df.filter([\"emp3bins\", \"lean1\"])\n",
    "    .groupby([\"emp3bins\", \"lean1\"])\n",
    "    .agg(Count=(\"emp3bins\", \"size\"))\n",
    "    .reset_index()\n",
    ")\n",
    "df1[\"Group_count\"] = df1.groupby(\"emp3bins\")[\"Count\"].transform(\"sum\")\n",
    "df1[\"Percent\"] = df1[\"Count\"] / df1[\"Group_count\"]\n",
    "df1[\"lean1\"] = pd.Categorical(\n",
    "    df1[\"lean1\"], categories=sorted(set(df1[\"lean1\"]), reverse=True)\n",
    ")\n",
    "df1[\"emp3bins\"] = pd.Categorical(\n",
    "    df1[\"emp3bins\"], categories=sorted(set(df1[\"emp3bins\"]), reverse=True)\n",
    ")"
   ]
  },
  {
   "cell_type": "code",
   "execution_count": 15,
   "metadata": {},
   "outputs": [
    {
     "data": {
      "image/png": "[encoded data removed]",
      "text/plain": [
       "<Figure size 700x550 with 1 Axes>"
      ]
     },
     "metadata": {},
     "output_type": "display_data"
    }
   ],
   "source": [
    "\n",
    "categories = df1[\"emp3bins\"].astype(int).unique().tolist() \n",
    "categories.sort(reverse = True)  \n",
    "subcategories = df1[\"lean1\"].unique()  \n",
    "color_order = [da.color[3],da.color[1],da.color[4],da.color[0],da.color[2]]\n",
    "pivot_df = df1.pivot_table(index=\"emp3bins\", columns=\"lean1\", values=\"Percent\", aggfunc=\"sum\").fillna(0)\n",
    "pivot_df = pivot_df.loc[categories]  \n",
    "\n",
    "bar_width = 0.5\n",
    "x = np.arange(len(categories))\n",
    "\n",
    "fig, ax = plt.subplots()\n",
    "bottom = np.zeros(len(categories))  \n",
    "for i, subcat in enumerate(subcategories):\n",
    "    ax.bar(\n",
    "        x,\n",
    "        pivot_df[subcat],\n",
    "        width=bar_width,\n",
    "        bottom=bottom,\n",
    "        label=subcat,\n",
    "        color=color_order[i],\n",
    "        alpha=1,\n",
    "        edgecolor=\"white\",\n",
    "    )\n",
    "    bottom += pivot_df[subcat]  \n",
    "\n",
    "\n",
    "ax.set_xticks(x)\n",
    "ax.set_xticklabels(categories,  ha=\"right\")\n",
    "ax.set_xlabel(\"Firm size (employment), 3 bins\")\n",
    "\n",
    "ax.set_yticks(np.arange(0, 1.1, 0.2))  \n",
    "ax.set_ylim(0, 1)\n",
    "ax.set_ylabel(\"Percent\")\n",
    "ax.yaxis.set_major_formatter(PercentFormatter(1))  \n",
    "\n",
    "ax.legend(\n",
    "    title=\" \", \n",
    "    loc=\"upper right\", \n",
    "    bbox_to_anchor=(1.15, 0.75),  \n",
    "    frameon=False\n",
    ")\n",
    "ax.spines[\"top\"].set_visible(False)\n",
    "ax.spines[\"right\"].set_visible(False)\n",
    "ax.spines[\"left\"].set_linewidth(0.5)\n",
    "ax.spines[\"bottom\"].set_linewidth(0.5)\n",
    "ax.grid(axis=\"y\", linestyle=\"--\", linewidth=0.5, alpha=0.7)\n",
    "ax.set_axisbelow(True)\n",
    "plt.show()"
   ]
  },
  {
   "cell_type": "markdown",
   "metadata": {},
   "source": [
    "(b) Performance tracking"
   ]
  },
  {
   "cell_type": "code",
   "execution_count": 16,
   "metadata": {},
   "outputs": [],
   "source": [
    "df1 = (\n",
    "    df.filter([\"emp3bins\", \"perf2\"])\n",
    "    .groupby([\"emp3bins\", \"perf2\"])\n",
    "    .agg(Count=(\"emp3bins\", \"size\"))\n",
    "    .reset_index()\n",
    ")\n",
    "df1[\"Group_count\"] = df1.groupby(\"emp3bins\")[\"Count\"].transform(\"sum\")\n",
    "df1[\"Percent\"] = df1[\"Count\"] / df1[\"Group_count\"]\n",
    "df1[\"perf2\"] = pd.Categorical(\n",
    "    df1[\"perf2\"], categories=sorted(set(df1[\"perf2\"]), reverse=True)\n",
    ")\n",
    "df1[\"emp3bins\"] = pd.Categorical(\n",
    "    df1[\"emp3bins\"], categories=sorted(set(df1[\"emp3bins\"]), reverse=True)\n",
    ")"
   ]
  },
  {
   "cell_type": "code",
   "execution_count": 17,
   "metadata": {},
   "outputs": [
    {
     "data": {
      "image/png": "[encoded data removed]",
      "text/plain": [
       "<Figure size 700x550 with 1 Axes>"
      ]
     },
     "metadata": {},
     "output_type": "display_data"
    }
   ],
   "source": [
    "\n",
    "categories = df1[\"emp3bins\"].astype(int).unique().tolist() \n",
    "categories.sort(reverse = True)  \n",
    "subcategories = df1[\"perf2\"].unique()  \n",
    "\n",
    "color_order = [da.color[3],da.color[1],da.color[4],da.color[0],da.color[2]]\n",
    "\n",
    "pivot_df = df1.pivot_table(index=\"emp3bins\", columns=\"perf2\", values=\"Percent\", aggfunc=\"sum\").fillna(0)\n",
    "pivot_df = pivot_df.loc[categories]  \n",
    "\n",
    "bar_width = 0.5\n",
    "x = np.arange(len(categories))\n",
    "\n",
    "fig, ax = plt.subplots()\n",
    "bottom = np.zeros(len(categories))  \n",
    "for i, subcat in enumerate(subcategories):\n",
    "    ax.bar(\n",
    "        x,\n",
    "        pivot_df[subcat],\n",
    "        width=bar_width,\n",
    "        bottom=bottom,\n",
    "        label=subcat,\n",
    "        color=color_order[i],\n",
    "        alpha=1,\n",
    "        edgecolor=\"white\",\n",
    "    )\n",
    "    bottom += pivot_df[subcat]  \n",
    "\n",
    "\n",
    "ax.set_xticks(x)\n",
    "ax.set_xticklabels(categories,  ha=\"right\")\n",
    "ax.set_xlabel(\"Firm size (employment), 3 bins\")\n",
    "\n",
    "ax.set_yticks(np.arange(0, 1.1, 0.2))  \n",
    "ax.set_ylim(0, 1)\n",
    "ax.set_ylabel(\"Percent\")\n",
    "ax.yaxis.set_major_formatter(PercentFormatter(1))  \n",
    "\n",
    "ax.legend(\n",
    "    title=\" \", \n",
    "    loc=\"upper right\", \n",
    "    bbox_to_anchor=(1.15, 0.75), \n",
    "    frameon=False\n",
    ")\n",
    "ax.spines[\"top\"].set_visible(False)\n",
    "ax.spines[\"right\"].set_visible(False)\n",
    "ax.spines[\"left\"].set_linewidth(0.5)\n",
    "ax.spines[\"bottom\"].set_linewidth(0.5)\n",
    "ax.grid(axis=\"y\", linestyle=\"--\", linewidth=0.5, alpha=0.7)\n",
    "ax.set_axisbelow(True)\n",
    "plt.show()"
   ]
  },
  {
   "cell_type": "code",
   "execution_count": 18,
   "metadata": {},
   "outputs": [
    {
     "data": {
      "text/html": [
       "<div>\n",
       "<style scoped>\n",
       "    .dataframe tbody tr th:only-of-type {\n",
       "        vertical-align: middle;\n",
       "    }\n",
       "\n",
       "    .dataframe tbody tr th {\n",
       "        vertical-align: top;\n",
       "    }\n",
       "\n",
       "    .dataframe thead th {\n",
       "        text-align: right;\n",
       "    }\n",
       "</style>\n",
       "<table border=\"1\" class=\"dataframe\">\n",
       "  <thead>\n",
       "    <tr style=\"text-align: right;\">\n",
       "      <th></th>\n",
       "      <th>min</th>\n",
       "      <th>max</th>\n",
       "      <th>mean</th>\n",
       "      <th>median</th>\n",
       "      <th>std</th>\n",
       "      <th>size</th>\n",
       "    </tr>\n",
       "    <tr>\n",
       "      <th>emp3bins</th>\n",
       "      <th></th>\n",
       "      <th></th>\n",
       "      <th></th>\n",
       "      <th></th>\n",
       "      <th></th>\n",
       "      <th></th>\n",
       "    </tr>\n",
       "  </thead>\n",
       "  <tbody>\n",
       "    <tr>\n",
       "      <th>1.0</th>\n",
       "      <td>100.0</td>\n",
       "      <td>197.0</td>\n",
       "      <td>145.597222</td>\n",
       "      <td>150.0</td>\n",
       "      <td>26.397108</td>\n",
       "      <td>72</td>\n",
       "    </tr>\n",
       "    <tr>\n",
       "      <th>2.0</th>\n",
       "      <td>200.0</td>\n",
       "      <td>994.0</td>\n",
       "      <td>413.153846</td>\n",
       "      <td>353.0</td>\n",
       "      <td>190.397552</td>\n",
       "      <td>156</td>\n",
       "    </tr>\n",
       "    <tr>\n",
       "      <th>3.0</th>\n",
       "      <td>1000.0</td>\n",
       "      <td>5000.0</td>\n",
       "      <td>2130.652778</td>\n",
       "      <td>1650.0</td>\n",
       "      <td>1178.115578</td>\n",
       "      <td>72</td>\n",
       "    </tr>\n",
       "  </tbody>\n",
       "</table>\n",
       "</div>"
      ],
      "text/plain": [
       "             min     max         mean  median          std  size\n",
       "emp3bins                                                        \n",
       "1.0        100.0   197.0   145.597222   150.0    26.397108    72\n",
       "2.0        200.0   994.0   413.153846   353.0   190.397552   156\n",
       "3.0       1000.0  5000.0  2130.652778  1650.0  1178.115578    72"
      ]
     },
     "execution_count": 18,
     "metadata": {},
     "output_type": "execute_result"
    }
   ],
   "source": [
    "# Bin scatters avg score by employment bins\n",
    "\n",
    "# Option 1: create 3 bins as defined by thresholds\n",
    "\n",
    "# Summary\n",
    "\n",
    "df.groupby(\"emp3bins\")[\"emp_firm\"].agg([\"min\", \"max\", \"mean\", \"median\", np.std, \"size\"])"
   ]
  },
  {
   "cell_type": "code",
   "execution_count": 19,
   "metadata": {},
   "outputs": [],
   "source": [
    "# Recode employee bins\n",
    "df[\"emp3bins\"] = df[\"emp3bins\"].replace(1, 150).replace(2, 600).replace(3, 3000)\n"
   ]
  },
  {
   "cell_type": "code",
   "execution_count": 20,
   "metadata": {},
   "outputs": [
    {
     "data": {
      "text/html": [
       "<div>\n",
       "<style scoped>\n",
       "    .dataframe tbody tr th:only-of-type {\n",
       "        vertical-align: middle;\n",
       "    }\n",
       "\n",
       "    .dataframe tbody tr th {\n",
       "        vertical-align: top;\n",
       "    }\n",
       "\n",
       "    .dataframe thead th {\n",
       "        text-align: right;\n",
       "    }\n",
       "</style>\n",
       "<table border=\"1\" class=\"dataframe\">\n",
       "  <thead>\n",
       "    <tr style=\"text-align: right;\">\n",
       "      <th></th>\n",
       "      <th>min</th>\n",
       "      <th>max</th>\n",
       "      <th>mean</th>\n",
       "      <th>median</th>\n",
       "      <th>std</th>\n",
       "      <th>size</th>\n",
       "    </tr>\n",
       "    <tr>\n",
       "      <th>emp3bins</th>\n",
       "      <th></th>\n",
       "      <th></th>\n",
       "      <th></th>\n",
       "      <th></th>\n",
       "      <th></th>\n",
       "      <th></th>\n",
       "    </tr>\n",
       "  </thead>\n",
       "  <tbody>\n",
       "    <tr>\n",
       "      <th>150.0</th>\n",
       "      <td>100.0</td>\n",
       "      <td>197.0</td>\n",
       "      <td>145.597222</td>\n",
       "      <td>150.0</td>\n",
       "      <td>26.397108</td>\n",
       "      <td>72</td>\n",
       "    </tr>\n",
       "    <tr>\n",
       "      <th>600.0</th>\n",
       "      <td>200.0</td>\n",
       "      <td>994.0</td>\n",
       "      <td>413.153846</td>\n",
       "      <td>353.0</td>\n",
       "      <td>190.397552</td>\n",
       "      <td>156</td>\n",
       "    </tr>\n",
       "    <tr>\n",
       "      <th>3000.0</th>\n",
       "      <td>1000.0</td>\n",
       "      <td>5000.0</td>\n",
       "      <td>2130.652778</td>\n",
       "      <td>1650.0</td>\n",
       "      <td>1178.115578</td>\n",
       "      <td>72</td>\n",
       "    </tr>\n",
       "  </tbody>\n",
       "</table>\n",
       "</div>"
      ],
      "text/plain": [
       "             min     max         mean  median          std  size\n",
       "emp3bins                                                        \n",
       "150.0      100.0   197.0   145.597222   150.0    26.397108    72\n",
       "600.0      200.0   994.0   413.153846   353.0   190.397552   156\n",
       "3000.0    1000.0  5000.0  2130.652778  1650.0  1178.115578    72"
      ]
     },
     "execution_count": 20,
     "metadata": {},
     "output_type": "execute_result"
    }
   ],
   "source": [
    "# Summary\n",
    "df.groupby(\"emp3bins\")[\"emp_firm\"].agg([\"min\", \"max\", \"mean\", \"median\", np.std, \"size\"])"
   ]
  },
  {
   "cell_type": "code",
   "execution_count": 21,
   "metadata": {},
   "outputs": [
    {
     "data": {
      "text/html": [
       "<div>\n",
       "<style scoped>\n",
       "    .dataframe tbody tr th:only-of-type {\n",
       "        vertical-align: middle;\n",
       "    }\n",
       "\n",
       "    .dataframe tbody tr th {\n",
       "        vertical-align: top;\n",
       "    }\n",
       "\n",
       "    .dataframe thead th {\n",
       "        text-align: right;\n",
       "    }\n",
       "</style>\n",
       "<table border=\"1\" class=\"dataframe\">\n",
       "  <thead>\n",
       "    <tr style=\"text-align: right;\">\n",
       "      <th></th>\n",
       "      <th>emp3bins</th>\n",
       "      <th>management_emp3bins</th>\n",
       "    </tr>\n",
       "  </thead>\n",
       "  <tbody>\n",
       "    <tr>\n",
       "      <th>0</th>\n",
       "      <td>150.0</td>\n",
       "      <td>2.679784</td>\n",
       "    </tr>\n",
       "    <tr>\n",
       "      <th>1</th>\n",
       "      <td>600.0</td>\n",
       "      <td>2.943732</td>\n",
       "    </tr>\n",
       "    <tr>\n",
       "      <th>2</th>\n",
       "      <td>3000.0</td>\n",
       "      <td>3.185957</td>\n",
       "    </tr>\n",
       "  </tbody>\n",
       "</table>\n",
       "</div>"
      ],
      "text/plain": [
       "   emp3bins  management_emp3bins\n",
       "0     150.0             2.679784\n",
       "1     600.0             2.943732\n",
       "2    3000.0             3.185957"
      ]
     },
     "execution_count": 21,
     "metadata": {},
     "output_type": "execute_result"
    }
   ],
   "source": [
    "# Generate variables by mean\n",
    "df1 = (\n",
    "    df.groupby(\"emp3bins\").agg(management_emp3bins=(\"management\", \"mean\")).reset_index()\n",
    ")\n",
    "df1\n"
   ]
  },
  {
   "cell_type": "markdown",
   "metadata": {},
   "source": [
    "### Figure 4.4 Mean management quality score and firm size"
   ]
  },
  {
   "cell_type": "markdown",
   "metadata": {},
   "source": [
    "(a) Three bins of employment"
   ]
  },
  {
   "cell_type": "code",
   "execution_count": 22,
   "metadata": {},
   "outputs": [
    {
     "data": {
      "image/png": "[encoded data removed]",
      "text/plain": [
       "<Figure size 700x550 with 1 Axes>"
      ]
     },
     "metadata": {},
     "output_type": "display_data"
    }
   ],
   "source": [
    "scatter = sns.scatterplot(\n",
    "    data=df1,\n",
    "    x=\"emp3bins\",\n",
    "    y=\"management_emp3bins\",\n",
    "    s=30,  \n",
    "    color=da.color[0],\n",
    "    alpha=1,\n",
    "    edgecolor=da.color[2]  \n",
    ")\n",
    "\n",
    "plt.xlim(0, 3020)\n",
    "plt.ylim(2.38, 3.42)\n",
    "plt.xticks(ticks=np.arange(0, 3020, 500))  \n",
    "plt.yticks(ticks=np.arange(2.4,3.42,0.2))  \n",
    "plt.xlabel(\"Firm size (employment), 3 bins\")\n",
    "plt.ylabel(\"Management score\")\n",
    "plt.show()"
   ]
  },
  {
   "cell_type": "code",
   "execution_count": 23,
   "metadata": {},
   "outputs": [],
   "source": [
    "df[\"emp10bins\"] = pd.qcut(df[\"emp_firm\"], 10)\n"
   ]
  },
  {
   "cell_type": "code",
   "execution_count": 24,
   "metadata": {},
   "outputs": [
    {
     "data": {
      "text/html": [
       "<div>\n",
       "<style scoped>\n",
       "    .dataframe tbody tr th:only-of-type {\n",
       "        vertical-align: middle;\n",
       "    }\n",
       "\n",
       "    .dataframe tbody tr th {\n",
       "        vertical-align: top;\n",
       "    }\n",
       "\n",
       "    .dataframe thead tr th {\n",
       "        text-align: left;\n",
       "    }\n",
       "\n",
       "    .dataframe thead tr:last-of-type th {\n",
       "        text-align: right;\n",
       "    }\n",
       "</style>\n",
       "<table border=\"1\" class=\"dataframe\">\n",
       "  <thead>\n",
       "    <tr>\n",
       "      <th></th>\n",
       "      <th colspan=\"6\" halign=\"left\">emp_firm</th>\n",
       "    </tr>\n",
       "    <tr>\n",
       "      <th></th>\n",
       "      <th>min</th>\n",
       "      <th>max</th>\n",
       "      <th>mean</th>\n",
       "      <th>median</th>\n",
       "      <th>std</th>\n",
       "      <th>size</th>\n",
       "    </tr>\n",
       "    <tr>\n",
       "      <th>emp10bins</th>\n",
       "      <th></th>\n",
       "      <th></th>\n",
       "      <th></th>\n",
       "      <th></th>\n",
       "      <th></th>\n",
       "      <th></th>\n",
       "    </tr>\n",
       "  </thead>\n",
       "  <tbody>\n",
       "    <tr>\n",
       "      <th>(99.999, 144.5]</th>\n",
       "      <td>100.0</td>\n",
       "      <td>140.0</td>\n",
       "      <td>118.566667</td>\n",
       "      <td>118.0</td>\n",
       "      <td>11.595729</td>\n",
       "      <td>30</td>\n",
       "    </tr>\n",
       "    <tr>\n",
       "      <th>(144.5, 180.0]</th>\n",
       "      <td>145.0</td>\n",
       "      <td>180.0</td>\n",
       "      <td>163.625000</td>\n",
       "      <td>160.0</td>\n",
       "      <td>12.947007</td>\n",
       "      <td>40</td>\n",
       "    </tr>\n",
       "    <tr>\n",
       "      <th>(180.0, 229.4]</th>\n",
       "      <td>184.0</td>\n",
       "      <td>228.0</td>\n",
       "      <td>204.000000</td>\n",
       "      <td>200.0</td>\n",
       "      <td>10.223811</td>\n",
       "      <td>20</td>\n",
       "    </tr>\n",
       "    <tr>\n",
       "      <th>(229.4, 278.0]</th>\n",
       "      <td>230.0</td>\n",
       "      <td>275.0</td>\n",
       "      <td>250.533333</td>\n",
       "      <td>250.0</td>\n",
       "      <td>11.607766</td>\n",
       "      <td>30</td>\n",
       "    </tr>\n",
       "    <tr>\n",
       "      <th>(278.0, 353.0]</th>\n",
       "      <td>280.0</td>\n",
       "      <td>350.0</td>\n",
       "      <td>310.266667</td>\n",
       "      <td>300.0</td>\n",
       "      <td>23.090427</td>\n",
       "      <td>30</td>\n",
       "    </tr>\n",
       "    <tr>\n",
       "      <th>(353.0, 500.0]</th>\n",
       "      <td>356.0</td>\n",
       "      <td>500.0</td>\n",
       "      <td>432.222222</td>\n",
       "      <td>405.0</td>\n",
       "      <td>50.747617</td>\n",
       "      <td>36</td>\n",
       "    </tr>\n",
       "    <tr>\n",
       "      <th>(500.0, 670.0]</th>\n",
       "      <td>520.0</td>\n",
       "      <td>670.0</td>\n",
       "      <td>583.240000</td>\n",
       "      <td>600.0</td>\n",
       "      <td>49.321463</td>\n",
       "      <td>25</td>\n",
       "    </tr>\n",
       "    <tr>\n",
       "      <th>(670.0, 1110.0]</th>\n",
       "      <td>700.0</td>\n",
       "      <td>1100.0</td>\n",
       "      <td>905.793103</td>\n",
       "      <td>900.0</td>\n",
       "      <td>137.250912</td>\n",
       "      <td>29</td>\n",
       "    </tr>\n",
       "    <tr>\n",
       "      <th>(1110.0, 2000.0]</th>\n",
       "      <td>1150.0</td>\n",
       "      <td>2000.0</td>\n",
       "      <td>1515.294118</td>\n",
       "      <td>1500.0</td>\n",
       "      <td>289.735881</td>\n",
       "      <td>34</td>\n",
       "    </tr>\n",
       "    <tr>\n",
       "      <th>(2000.0, 5000.0]</th>\n",
       "      <td>2100.0</td>\n",
       "      <td>5000.0</td>\n",
       "      <td>3438.730769</td>\n",
       "      <td>3500.0</td>\n",
       "      <td>982.115006</td>\n",
       "      <td>26</td>\n",
       "    </tr>\n",
       "  </tbody>\n",
       "</table>\n",
       "</div>"
      ],
      "text/plain": [
       "                 emp_firm                                              \n",
       "                      min     max         mean  median         std size\n",
       "emp10bins                                                              \n",
       "(99.999, 144.5]     100.0   140.0   118.566667   118.0   11.595729   30\n",
       "(144.5, 180.0]      145.0   180.0   163.625000   160.0   12.947007   40\n",
       "(180.0, 229.4]      184.0   228.0   204.000000   200.0   10.223811   20\n",
       "(229.4, 278.0]      230.0   275.0   250.533333   250.0   11.607766   30\n",
       "(278.0, 353.0]      280.0   350.0   310.266667   300.0   23.090427   30\n",
       "(353.0, 500.0]      356.0   500.0   432.222222   405.0   50.747617   36\n",
       "(500.0, 670.0]      520.0   670.0   583.240000   600.0   49.321463   25\n",
       "(670.0, 1110.0]     700.0  1100.0   905.793103   900.0  137.250912   29\n",
       "(1110.0, 2000.0]   1150.0  2000.0  1515.294118  1500.0  289.735881   34\n",
       "(2000.0, 5000.0]   2100.0  5000.0  3438.730769  3500.0  982.115006   26"
      ]
     },
     "execution_count": 24,
     "metadata": {},
     "output_type": "execute_result"
    }
   ],
   "source": [
    "# Summary\n",
    "df_summary = (\n",
    "    df.filter([\"emp_firm\", \"emp10bins\"])\n",
    "    .groupby(\"emp10bins\")\n",
    "    .agg([\"min\", \"max\", \"mean\", \"median\", np.std, \"size\"])\n",
    ")\n",
    "df_summary\n"
   ]
  },
  {
   "cell_type": "code",
   "execution_count": 25,
   "metadata": {},
   "outputs": [],
   "source": [
    "# Recode with bin means\n",
    "df = df.replace({\"emp10bins\": df_summary[\"emp_firm\"][\"mean\"].to_dict()})\n"
   ]
  },
  {
   "cell_type": "code",
   "execution_count": 26,
   "metadata": {},
   "outputs": [
    {
     "data": {
      "text/html": [
       "<div>\n",
       "<style scoped>\n",
       "    .dataframe tbody tr th:only-of-type {\n",
       "        vertical-align: middle;\n",
       "    }\n",
       "\n",
       "    .dataframe tbody tr th {\n",
       "        vertical-align: top;\n",
       "    }\n",
       "\n",
       "    .dataframe thead th {\n",
       "        text-align: right;\n",
       "    }\n",
       "</style>\n",
       "<table border=\"1\" class=\"dataframe\">\n",
       "  <thead>\n",
       "    <tr style=\"text-align: right;\">\n",
       "      <th></th>\n",
       "      <th>min</th>\n",
       "      <th>max</th>\n",
       "      <th>mean</th>\n",
       "      <th>median</th>\n",
       "      <th>std</th>\n",
       "      <th>size</th>\n",
       "    </tr>\n",
       "    <tr>\n",
       "      <th>emp10bins</th>\n",
       "      <th></th>\n",
       "      <th></th>\n",
       "      <th></th>\n",
       "      <th></th>\n",
       "      <th></th>\n",
       "      <th></th>\n",
       "    </tr>\n",
       "  </thead>\n",
       "  <tbody>\n",
       "    <tr>\n",
       "      <th>118.566667</th>\n",
       "      <td>100.0</td>\n",
       "      <td>140.0</td>\n",
       "      <td>118.566667</td>\n",
       "      <td>118.0</td>\n",
       "      <td>11.595729</td>\n",
       "      <td>30</td>\n",
       "    </tr>\n",
       "    <tr>\n",
       "      <th>163.625000</th>\n",
       "      <td>145.0</td>\n",
       "      <td>180.0</td>\n",
       "      <td>163.625000</td>\n",
       "      <td>160.0</td>\n",
       "      <td>12.947007</td>\n",
       "      <td>40</td>\n",
       "    </tr>\n",
       "    <tr>\n",
       "      <th>204.000000</th>\n",
       "      <td>184.0</td>\n",
       "      <td>228.0</td>\n",
       "      <td>204.000000</td>\n",
       "      <td>200.0</td>\n",
       "      <td>10.223811</td>\n",
       "      <td>20</td>\n",
       "    </tr>\n",
       "    <tr>\n",
       "      <th>250.533333</th>\n",
       "      <td>230.0</td>\n",
       "      <td>275.0</td>\n",
       "      <td>250.533333</td>\n",
       "      <td>250.0</td>\n",
       "      <td>11.607766</td>\n",
       "      <td>30</td>\n",
       "    </tr>\n",
       "    <tr>\n",
       "      <th>310.266667</th>\n",
       "      <td>280.0</td>\n",
       "      <td>350.0</td>\n",
       "      <td>310.266667</td>\n",
       "      <td>300.0</td>\n",
       "      <td>23.090427</td>\n",
       "      <td>30</td>\n",
       "    </tr>\n",
       "    <tr>\n",
       "      <th>432.222222</th>\n",
       "      <td>356.0</td>\n",
       "      <td>500.0</td>\n",
       "      <td>432.222222</td>\n",
       "      <td>405.0</td>\n",
       "      <td>50.747617</td>\n",
       "      <td>36</td>\n",
       "    </tr>\n",
       "    <tr>\n",
       "      <th>583.240000</th>\n",
       "      <td>520.0</td>\n",
       "      <td>670.0</td>\n",
       "      <td>583.240000</td>\n",
       "      <td>600.0</td>\n",
       "      <td>49.321463</td>\n",
       "      <td>25</td>\n",
       "    </tr>\n",
       "    <tr>\n",
       "      <th>905.793103</th>\n",
       "      <td>700.0</td>\n",
       "      <td>1100.0</td>\n",
       "      <td>905.793103</td>\n",
       "      <td>900.0</td>\n",
       "      <td>137.250912</td>\n",
       "      <td>29</td>\n",
       "    </tr>\n",
       "    <tr>\n",
       "      <th>1515.294118</th>\n",
       "      <td>1150.0</td>\n",
       "      <td>2000.0</td>\n",
       "      <td>1515.294118</td>\n",
       "      <td>1500.0</td>\n",
       "      <td>289.735881</td>\n",
       "      <td>34</td>\n",
       "    </tr>\n",
       "    <tr>\n",
       "      <th>3438.730769</th>\n",
       "      <td>2100.0</td>\n",
       "      <td>5000.0</td>\n",
       "      <td>3438.730769</td>\n",
       "      <td>3500.0</td>\n",
       "      <td>982.115006</td>\n",
       "      <td>26</td>\n",
       "    </tr>\n",
       "  </tbody>\n",
       "</table>\n",
       "</div>"
      ],
      "text/plain": [
       "                min     max         mean  median         std  size\n",
       "emp10bins                                                         \n",
       "118.566667    100.0   140.0   118.566667   118.0   11.595729    30\n",
       "163.625000    145.0   180.0   163.625000   160.0   12.947007    40\n",
       "204.000000    184.0   228.0   204.000000   200.0   10.223811    20\n",
       "250.533333    230.0   275.0   250.533333   250.0   11.607766    30\n",
       "310.266667    280.0   350.0   310.266667   300.0   23.090427    30\n",
       "432.222222    356.0   500.0   432.222222   405.0   50.747617    36\n",
       "583.240000    520.0   670.0   583.240000   600.0   49.321463    25\n",
       "905.793103    700.0  1100.0   905.793103   900.0  137.250912    29\n",
       "1515.294118  1150.0  2000.0  1515.294118  1500.0  289.735881    34\n",
       "3438.730769  2100.0  5000.0  3438.730769  3500.0  982.115006    26"
      ]
     },
     "execution_count": 26,
     "metadata": {},
     "output_type": "execute_result"
    }
   ],
   "source": [
    "df.groupby(\"emp10bins\")[\"emp_firm\"].agg(\n",
    "    [\"min\", \"max\", \"mean\", \"median\", np.std, \"size\"]\n",
    ")"
   ]
  },
  {
   "cell_type": "code",
   "execution_count": 27,
   "metadata": {},
   "outputs": [
    {
     "data": {
      "text/html": [
       "<div>\n",
       "<style scoped>\n",
       "    .dataframe tbody tr th:only-of-type {\n",
       "        vertical-align: middle;\n",
       "    }\n",
       "\n",
       "    .dataframe tbody tr th {\n",
       "        vertical-align: top;\n",
       "    }\n",
       "\n",
       "    .dataframe thead th {\n",
       "        text-align: right;\n",
       "    }\n",
       "</style>\n",
       "<table border=\"1\" class=\"dataframe\">\n",
       "  <thead>\n",
       "    <tr style=\"text-align: right;\">\n",
       "      <th></th>\n",
       "      <th>emp10bins</th>\n",
       "      <th>management_emp10bins</th>\n",
       "    </tr>\n",
       "  </thead>\n",
       "  <tbody>\n",
       "    <tr>\n",
       "      <th>0</th>\n",
       "      <td>118</td>\n",
       "      <td>2.588889</td>\n",
       "    </tr>\n",
       "    <tr>\n",
       "      <th>1</th>\n",
       "      <td>163</td>\n",
       "      <td>2.736111</td>\n",
       "    </tr>\n",
       "    <tr>\n",
       "      <th>2</th>\n",
       "      <td>204</td>\n",
       "      <td>2.727778</td>\n",
       "    </tr>\n",
       "    <tr>\n",
       "      <th>3</th>\n",
       "      <td>250</td>\n",
       "      <td>2.968519</td>\n",
       "    </tr>\n",
       "    <tr>\n",
       "      <th>4</th>\n",
       "      <td>310</td>\n",
       "      <td>2.953704</td>\n",
       "    </tr>\n",
       "    <tr>\n",
       "      <th>5</th>\n",
       "      <td>432</td>\n",
       "      <td>2.956790</td>\n",
       "    </tr>\n",
       "    <tr>\n",
       "      <th>6</th>\n",
       "      <td>583</td>\n",
       "      <td>3.000000</td>\n",
       "    </tr>\n",
       "    <tr>\n",
       "      <th>7</th>\n",
       "      <td>905</td>\n",
       "      <td>2.994253</td>\n",
       "    </tr>\n",
       "    <tr>\n",
       "      <th>8</th>\n",
       "      <td>1515</td>\n",
       "      <td>3.096405</td>\n",
       "    </tr>\n",
       "    <tr>\n",
       "      <th>9</th>\n",
       "      <td>3438</td>\n",
       "      <td>3.410256</td>\n",
       "    </tr>\n",
       "  </tbody>\n",
       "</table>\n",
       "</div>"
      ],
      "text/plain": [
       "   emp10bins  management_emp10bins\n",
       "0        118              2.588889\n",
       "1        163              2.736111\n",
       "2        204              2.727778\n",
       "3        250              2.968519\n",
       "4        310              2.953704\n",
       "5        432              2.956790\n",
       "6        583              3.000000\n",
       "7        905              2.994253\n",
       "8       1515              3.096405\n",
       "9       3438              3.410256"
      ]
     },
     "execution_count": 27,
     "metadata": {},
     "output_type": "execute_result"
    }
   ],
   "source": [
    "# Generate variables by mean\n",
    "df1 = (\n",
    "    df.groupby(\"emp10bins\")\n",
    "    .agg(management_emp10bins=(\"management\", \"mean\"))\n",
    "    .reset_index()\n",
    "    .assign(emp10bins = lambda x: x[\"emp10bins\"].astype(int))\n",
    ")\n",
    "df1\n"
   ]
  },
  {
   "cell_type": "markdown",
   "metadata": {},
   "source": [
    "(b) Ten bins of employment"
   ]
  },
  {
   "cell_type": "code",
   "execution_count": 28,
   "metadata": {},
   "outputs": [
    {
     "data": {
      "image/png": "[encoded data removed]",
      "text/plain": [
       "<Figure size 700x550 with 1 Axes>"
      ]
     },
     "metadata": {},
     "output_type": "display_data"
    }
   ],
   "source": [
    "scatter = sns.scatterplot(\n",
    "    data=df1,\n",
    "    x=\"emp10bins\",\n",
    "    y=\"management_emp10bins\",\n",
    "    s=30,  \n",
    "    color=da.color[0],\n",
    "    alpha=1,\n",
    "    edgecolor=da.color[2]  \n",
    ")\n",
    "\n",
    "\n",
    "plt.xlim(0, 3520)\n",
    "plt.ylim(2.48, 3.52)\n",
    "plt.xticks(ticks=np.arange(0, 3520, 500))  \n",
    "plt.yticks(ticks=np.arange(2.5,3.52,0.2))  \n",
    "plt.xlabel(\"Firm size (employment), 10 bins\")\n",
    "plt.ylabel(\"Management score\")\n",
    "plt.show()"
   ]
  },
  {
   "cell_type": "markdown",
   "metadata": {},
   "source": [
    "### Figure 4.5 The joint distribution of the management quality score and firm size"
   ]
  },
  {
   "cell_type": "markdown",
   "metadata": {},
   "source": [
    "(a) By employment"
   ]
  },
  {
   "cell_type": "code",
   "execution_count": 29,
   "metadata": {},
   "outputs": [
    {
     "data": {
      "image/png": "[encoded data removed]",
      "text/plain": [
       "<Figure size 700x550 with 1 Axes>"
      ]
     },
     "metadata": {},
     "output_type": "display_data"
    }
   ],
   "source": [
    "scatter = sns.scatterplot(\n",
    "    data=df,\n",
    "    x=\"emp_firm\",\n",
    "    y=\"management\",\n",
    "    s=20,  \n",
    "    color=da.color[0],\n",
    "    alpha=1,\n",
    "    edgecolor = da.color[0]\n",
    ")\n",
    "\n",
    "plt.xlim(-50, 5040)\n",
    "plt.ylim(0.95, 5.1)\n",
    "plt.xticks(ticks=np.arange(0, 5040, 1000))  \n",
    "plt.yticks(ticks=np.arange(1,5.1,1))  \n",
    "plt.xlabel(\"Firm size (employment)\")\n",
    "plt.ylabel(\"Management score\")\n",
    "plt.show()"
   ]
  },
  {
   "cell_type": "markdown",
   "metadata": {},
   "source": [
    "(b) By log employment"
   ]
  },
  {
   "cell_type": "code",
   "execution_count": 30,
   "metadata": {},
   "outputs": [
    {
     "data": {
      "image/png": "[encoded data removed]",
      "text/plain": [
       "<Figure size 700x550 with 1 Axes>"
      ]
     },
     "metadata": {},
     "output_type": "display_data"
    }
   ],
   "source": [
    "df[\"lnemp\"] = np.log(df[\"emp_firm\"])\n",
    "\n",
    "scatter = sns.scatterplot(\n",
    "    data=df,\n",
    "    x=\"lnemp\",\n",
    "    y=\"management\",\n",
    "    s=20,  \n",
    "    color=da.color[0],\n",
    "    alpha=1\n",
    ")\n",
    "\n",
    "plt.xlim(3.9, 9.1)\n",
    "plt.ylim(0.95, 5.1)\n",
    "plt.xticks(ticks=np.arange(4, 9.1, 1))  \n",
    "plt.yticks(ticks=np.arange(1,5.1,1))  \n",
    "plt.xlabel(\"Firm size  (ln(employment))\")\n",
    "plt.ylabel(\"Management score\")\n",
    "plt.show()"
   ]
  },
  {
   "cell_type": "markdown",
   "metadata": {},
   "source": [
    "### Figure 4.6 Conditional summary statistics of the management score by bins of firm size"
   ]
  },
  {
   "cell_type": "code",
   "execution_count": 31,
   "metadata": {},
   "outputs": [],
   "source": [
    "df = df.replace({\"emp3bins\": {150: \"Small\", 600: \"Medium\", 3000: \"Large\"}})\n",
    "df['emp3bins'] = pd.Categorical(df['emp3bins'], categories=sorted(set(df['emp3bins']), reverse=True))"
   ]
  },
  {
   "cell_type": "code",
   "execution_count": 32,
   "metadata": {},
   "outputs": [],
   "source": [
    "import matplotlib as mpl"
   ]
  },
  {
   "cell_type": "code",
   "execution_count": 33,
   "metadata": {},
   "outputs": [
    {
     "data": {
      "image/png": "[encoded data removed]",
      "text/plain": [
       "<Figure size 700x550 with 1 Axes>"
      ]
     },
     "metadata": {},
     "output_type": "display_data"
    }
   ],
   "source": [
    "fig, ax = plt.subplots()\n",
    "sns.boxplot(\n",
    "    data=df, x=\"emp3bins\", y=\"management\", width=0.5, ax=ax, flierprops={\"marker\": \"o\"}\n",
    ")\n",
    "\n",
    "box_line_col = [da.color[1], da.color[0], da.color[2]]\n",
    "for i, box_col in enumerate(box_line_col):\n",
    "    mybox = ax.patches[i]\n",
    "    mybox.set_facecolor(mpl.colors.to_rgba(box_col, 0.5))\n",
    "    mybox.set_edgecolor(box_col)\n",
    "    for j in range(i * 6, i * 6 + 6):\n",
    "        line = ax.lines[j]\n",
    "        line.set_color(box_col)\n",
    "        line.set_mfc(mpl.colors.to_rgba(box_col, 0.5))\n",
    "        line.set_mec(mpl.colors.to_rgba(box_col, 0.5))\n",
    "\n",
    "plt.ylabel(\"Management score\", size=12)\n",
    "plt.xlabel(\"Firm size (employment), 3 bins\", size=12)\n",
    "plt.yticks(da.seq(1, 5, 1))\n",
    "plt.show()"
   ]
  },
  {
   "cell_type": "markdown",
   "metadata": {},
   "source": [
    "Violin plot"
   ]
  },
  {
   "cell_type": "code",
   "execution_count": 34,
   "metadata": {},
   "outputs": [
    {
     "data": {
      "image/png": "[encoded data removed]",
      "text/plain": [
       "<Figure size 700x550 with 1 Axes>"
      ]
     },
     "metadata": {},
     "output_type": "display_data"
    }
   ],
   "source": [
    "fig, ax = plt.subplots()\n",
    "sns.violinplot(\n",
    "    data=df,\n",
    "    x=\"emp3bins\",\n",
    "    y=\"management\",\n",
    "    ax=ax,\n",
    "    inner_kws={\"marker\": \"o\"},\n",
    "    width=1,\n",
    "    linewidth=0.8,\n",
    "    inner=None,\n",
    ")\n",
    "\n",
    "violin_line_col = [da.color[1], da.color[0], da.color[2]]\n",
    "for i, violin_col in enumerate(violin_line_col):\n",
    "    mybox = ax.collections[i]\n",
    "    mybox.set_facecolor(mpl.colors.to_rgba(violin_col, 0.3))\n",
    "    mybox.set_edgecolor(violin_col)\n",
    "\n",
    "sns.boxplot(\n",
    "    data=df,\n",
    "    x=\"emp3bins\",\n",
    "    y=\"management\",\n",
    "    ax=ax,\n",
    "    width=0.23,\n",
    "    showcaps=False,\n",
    "    flierprops={\"marker\": \"o\"},\n",
    ")\n",
    "\n",
    "box_line_col = [da.color[1], da.color[0], da.color[2]]\n",
    "for i, box_col in enumerate(box_line_col):\n",
    "    mybox = ax.patches[i]\n",
    "    mybox.set_facecolor(mpl.colors.to_rgba(box_col, 0.4))\n",
    "    mybox.set_edgecolor(box_col)\n",
    "    for j in range(i * 4, i * 4 + 4):\n",
    "        line = ax.lines[j]\n",
    "        line.set_color(box_col)\n",
    "        line.set_mfc(mpl.colors.to_rgba(box_col, 0.4))\n",
    "        line.set_mec(mpl.colors.to_rgba(box_col, 0.4))\n",
    "\n",
    "plt.ylabel(\"Management score\", size=12)\n",
    "plt.xlabel(\"Firm size (employment), 3 bins\", size=12)\n",
    "plt.yticks(da.seq(0, 6, 1))\n",
    "plt.show()"
   ]
  },
  {
   "cell_type": "code",
   "execution_count": 35,
   "metadata": {},
   "outputs": [
    {
     "data": {
      "text/plain": [
       "0.30199539572479067"
      ]
     },
     "execution_count": 35,
     "metadata": {},
     "output_type": "execute_result"
    }
   ],
   "source": [
    "# Correlation\n",
    "df[\"management\"].corr(df[\"emp_firm\"])"
   ]
  },
  {
   "cell_type": "code",
   "execution_count": 36,
   "metadata": {},
   "outputs": [],
   "source": [
    "# by industry\n",
    "df.loc[df[\"sic\"] <= 21, \"industry_broad\"] = \"food_drinks_tobacco\"\n",
    "df.loc[\n",
    "    ((df[\"sic\"] >= 22) & (df[\"sic\"] <= 23)) | (df[\"sic\"] == 31), \"industry_broad\"\n",
    "] = \"textile_apparel_leather_etc\"\n",
    "df.loc[(df[\"sic\"] >= 24) & (df[\"sic\"] <= 27), \"industry_broad\"] = \"wood_furniture_paper\"\n",
    "df.loc[(df[\"sic\"] >= 28) & (df[\"sic\"] <= 30), \"industry_broad\"] = \"chemicals_etc\"\n",
    "df.loc[(df[\"sic\"] >= 32) & (df[\"sic\"] < 35), \"industry_broad\"] = \"materials_metals\"\n",
    "df.loc[(df[\"sic\"] >= 35) & (df[\"sic\"] < 37), \"industry_broad\"] = \"electronics\"\n",
    "df.loc[df[\"sic\"] == 37, \"industry_broad\"] = \"auto\"\n",
    "df.loc[df[\"sic\"] >= 38, \"industry_broad\"] = \"other\""
   ]
  },
  {
   "cell_type": "code",
   "execution_count": 37,
   "metadata": {},
   "outputs": [
    {
     "data": {
      "text/plain": [
       "industry_broad\n",
       "chemicals_etc                  69\n",
       "materials_metals               50\n",
       "textile_apparel_leather_etc    38\n",
       "wood_furniture_paper           37\n",
       "electronics                    36\n",
       "food_drinks_tobacco            34\n",
       "auto                           26\n",
       "other                          10\n",
       "Name: count, dtype: int64"
      ]
     },
     "execution_count": 37,
     "metadata": {},
     "output_type": "execute_result"
    }
   ],
   "source": [
    "df[\"industry_broad\"].value_counts()\n"
   ]
  },
  {
   "cell_type": "code",
   "execution_count": 38,
   "metadata": {
    "scrolled": true
   },
   "outputs": [
    {
     "data": {
      "text/plain": [
       "industry_broad                         \n",
       "auto                         management    0.502322\n",
       "chemicals_etc                management    0.053380\n",
       "electronics                  management    0.282000\n",
       "food_drinks_tobacco          management    0.052144\n",
       "materials_metals             management    0.320921\n",
       "other                        management    0.628398\n",
       "textile_apparel_leather_etc  management    0.360877\n",
       "wood_furniture_paper         management    0.294981\n",
       "Name: emp_firm, dtype: float64"
      ]
     },
     "execution_count": 38,
     "metadata": {},
     "output_type": "execute_result"
    }
   ],
   "source": [
    "# Correlation\n",
    "df.groupby(\"industry_broad\")[[\"management\", \"emp_firm\"]].corr().iloc[0::2, -1]\n"
   ]
  },
  {
   "cell_type": "code",
   "execution_count": 39,
   "metadata": {},
   "outputs": [
    {
     "data": {
      "text/html": [
       "<div>\n",
       "<style scoped>\n",
       "    .dataframe tbody tr th:only-of-type {\n",
       "        vertical-align: middle;\n",
       "    }\n",
       "\n",
       "    .dataframe tbody tr th {\n",
       "        vertical-align: top;\n",
       "    }\n",
       "\n",
       "    .dataframe thead th {\n",
       "        text-align: right;\n",
       "    }\n",
       "</style>\n",
       "<table border=\"1\" class=\"dataframe\">\n",
       "  <thead>\n",
       "    <tr style=\"text-align: right;\">\n",
       "      <th></th>\n",
       "      <th>Min</th>\n",
       "      <th>Max</th>\n",
       "      <th>SD</th>\n",
       "      <th>Median</th>\n",
       "      <th>n</th>\n",
       "    </tr>\n",
       "    <tr>\n",
       "      <th>industry_broad</th>\n",
       "      <th></th>\n",
       "      <th></th>\n",
       "      <th></th>\n",
       "      <th></th>\n",
       "      <th></th>\n",
       "    </tr>\n",
       "  </thead>\n",
       "  <tbody>\n",
       "    <tr>\n",
       "      <th>auto</th>\n",
       "      <td>2.278</td>\n",
       "      <td>4.278</td>\n",
       "      <td>0.553</td>\n",
       "      <td>3.194</td>\n",
       "      <td>26</td>\n",
       "    </tr>\n",
       "    <tr>\n",
       "      <th>chemicals_etc</th>\n",
       "      <td>1.278</td>\n",
       "      <td>4.111</td>\n",
       "      <td>0.550</td>\n",
       "      <td>3.000</td>\n",
       "      <td>69</td>\n",
       "    </tr>\n",
       "    <tr>\n",
       "      <th>electronics</th>\n",
       "      <td>1.500</td>\n",
       "      <td>4.500</td>\n",
       "      <td>0.693</td>\n",
       "      <td>3.111</td>\n",
       "      <td>36</td>\n",
       "    </tr>\n",
       "    <tr>\n",
       "      <th>food_drinks_tobacco</th>\n",
       "      <td>1.889</td>\n",
       "      <td>4.222</td>\n",
       "      <td>0.526</td>\n",
       "      <td>2.833</td>\n",
       "      <td>34</td>\n",
       "    </tr>\n",
       "    <tr>\n",
       "      <th>materials_metals</th>\n",
       "      <td>1.556</td>\n",
       "      <td>4.278</td>\n",
       "      <td>0.565</td>\n",
       "      <td>2.861</td>\n",
       "      <td>50</td>\n",
       "    </tr>\n",
       "    <tr>\n",
       "      <th>other</th>\n",
       "      <td>1.778</td>\n",
       "      <td>4.611</td>\n",
       "      <td>0.844</td>\n",
       "      <td>3.556</td>\n",
       "      <td>10</td>\n",
       "    </tr>\n",
       "    <tr>\n",
       "      <th>textile_apparel_leather_etc</th>\n",
       "      <td>1.778</td>\n",
       "      <td>4.000</td>\n",
       "      <td>0.567</td>\n",
       "      <td>2.778</td>\n",
       "      <td>38</td>\n",
       "    </tr>\n",
       "    <tr>\n",
       "      <th>wood_furniture_paper</th>\n",
       "      <td>1.722</td>\n",
       "      <td>3.556</td>\n",
       "      <td>0.556</td>\n",
       "      <td>2.833</td>\n",
       "      <td>37</td>\n",
       "    </tr>\n",
       "  </tbody>\n",
       "</table>\n",
       "</div>"
      ],
      "text/plain": [
       "                               Min    Max     SD  Median   n\n",
       "industry_broad                                              \n",
       "auto                         2.278  4.278  0.553   3.194  26\n",
       "chemicals_etc                1.278  4.111  0.550   3.000  69\n",
       "electronics                  1.500  4.500  0.693   3.111  36\n",
       "food_drinks_tobacco          1.889  4.222  0.526   2.833  34\n",
       "materials_metals             1.556  4.278  0.565   2.861  50\n",
       "other                        1.778  4.611  0.844   3.556  10\n",
       "textile_apparel_leather_etc  1.778  4.000  0.567   2.778  38\n",
       "wood_furniture_paper         1.722  3.556  0.556   2.833  37"
      ]
     },
     "execution_count": 39,
     "metadata": {},
     "output_type": "execute_result"
    }
   ],
   "source": [
    "(\n",
    "    df.loc[df[\"industry_broad\"].notna(), [\"management\", \"industry_broad\"]]\n",
    "    .groupby(\"industry_broad\")\n",
    "    .agg(\n",
    "        Min=(\"management\", \"min\"),\n",
    "        Max=(\"management\", \"max\"),\n",
    "        SD=(\"management\", np.std),\n",
    "        Median=(\"management\", \"median\"),\n",
    "        n=(\"management\", \"size\"),\n",
    "    )\n",
    "    .round(3)\n",
    ")"
   ]
  },
  {
   "cell_type": "code",
   "execution_count": 40,
   "metadata": {},
   "outputs": [
    {
     "data": {
      "text/html": [
       "<div>\n",
       "<style scoped>\n",
       "    .dataframe tbody tr th:only-of-type {\n",
       "        vertical-align: middle;\n",
       "    }\n",
       "\n",
       "    .dataframe tbody tr th {\n",
       "        vertical-align: top;\n",
       "    }\n",
       "\n",
       "    .dataframe thead th {\n",
       "        text-align: right;\n",
       "    }\n",
       "</style>\n",
       "<table border=\"1\" class=\"dataframe\">\n",
       "  <thead>\n",
       "    <tr style=\"text-align: right;\">\n",
       "      <th></th>\n",
       "      <th>Min</th>\n",
       "      <th>Max</th>\n",
       "      <th>SD</th>\n",
       "      <th>Median</th>\n",
       "      <th>n</th>\n",
       "    </tr>\n",
       "    <tr>\n",
       "      <th>industry_broad</th>\n",
       "      <th></th>\n",
       "      <th></th>\n",
       "      <th></th>\n",
       "      <th></th>\n",
       "      <th></th>\n",
       "    </tr>\n",
       "  </thead>\n",
       "  <tbody>\n",
       "    <tr>\n",
       "      <th>auto</th>\n",
       "      <td>130.0</td>\n",
       "      <td>5000.0</td>\n",
       "      <td>1625.104</td>\n",
       "      <td>500.0</td>\n",
       "      <td>26</td>\n",
       "    </tr>\n",
       "    <tr>\n",
       "      <th>chemicals_etc</th>\n",
       "      <td>116.0</td>\n",
       "      <td>2000.0</td>\n",
       "      <td>465.981</td>\n",
       "      <td>356.0</td>\n",
       "      <td>69</td>\n",
       "    </tr>\n",
       "    <tr>\n",
       "      <th>electronics</th>\n",
       "      <td>115.0</td>\n",
       "      <td>5000.0</td>\n",
       "      <td>1126.787</td>\n",
       "      <td>295.0</td>\n",
       "      <td>36</td>\n",
       "    </tr>\n",
       "    <tr>\n",
       "      <th>food_drinks_tobacco</th>\n",
       "      <td>120.0</td>\n",
       "      <td>2400.0</td>\n",
       "      <td>665.626</td>\n",
       "      <td>471.0</td>\n",
       "      <td>34</td>\n",
       "    </tr>\n",
       "    <tr>\n",
       "      <th>materials_metals</th>\n",
       "      <td>100.0</td>\n",
       "      <td>5000.0</td>\n",
       "      <td>1151.437</td>\n",
       "      <td>335.0</td>\n",
       "      <td>50</td>\n",
       "    </tr>\n",
       "    <tr>\n",
       "      <th>other</th>\n",
       "      <td>200.0</td>\n",
       "      <td>2900.0</td>\n",
       "      <td>867.247</td>\n",
       "      <td>350.0</td>\n",
       "      <td>10</td>\n",
       "    </tr>\n",
       "    <tr>\n",
       "      <th>textile_apparel_leather_etc</th>\n",
       "      <td>110.0</td>\n",
       "      <td>4000.0</td>\n",
       "      <td>899.413</td>\n",
       "      <td>350.0</td>\n",
       "      <td>38</td>\n",
       "    </tr>\n",
       "    <tr>\n",
       "      <th>wood_furniture_paper</th>\n",
       "      <td>100.0</td>\n",
       "      <td>3500.0</td>\n",
       "      <td>855.610</td>\n",
       "      <td>300.0</td>\n",
       "      <td>37</td>\n",
       "    </tr>\n",
       "  </tbody>\n",
       "</table>\n",
       "</div>"
      ],
      "text/plain": [
       "                               Min     Max        SD  Median   n\n",
       "industry_broad                                                  \n",
       "auto                         130.0  5000.0  1625.104   500.0  26\n",
       "chemicals_etc                116.0  2000.0   465.981   356.0  69\n",
       "electronics                  115.0  5000.0  1126.787   295.0  36\n",
       "food_drinks_tobacco          120.0  2400.0   665.626   471.0  34\n",
       "materials_metals             100.0  5000.0  1151.437   335.0  50\n",
       "other                        200.0  2900.0   867.247   350.0  10\n",
       "textile_apparel_leather_etc  110.0  4000.0   899.413   350.0  38\n",
       "wood_furniture_paper         100.0  3500.0   855.610   300.0  37"
      ]
     },
     "execution_count": 40,
     "metadata": {},
     "output_type": "execute_result"
    }
   ],
   "source": [
    "(\n",
    "    df.loc[df[\"industry_broad\"].notna(), [\"emp_firm\", \"industry_broad\"]]\n",
    "    .groupby(\"industry_broad\")\n",
    "    .agg(\n",
    "        Min=(\"emp_firm\", \"min\"),\n",
    "        Max=(\"emp_firm\", \"max\"),\n",
    "        SD=(\"emp_firm\", np.std),\n",
    "        Median=(\"emp_firm\", \"median\"),\n",
    "        n=(\"emp_firm\", \"size\"),\n",
    "    )\n",
    "    .round(3)\n",
    ")"
   ]
  },
  {
   "cell_type": "code",
   "execution_count": 41,
   "metadata": {},
   "outputs": [
    {
     "data": {
      "text/html": [
       "<div>\n",
       "<style scoped>\n",
       "    .dataframe tbody tr th:only-of-type {\n",
       "        vertical-align: middle;\n",
       "    }\n",
       "\n",
       "    .dataframe tbody tr th {\n",
       "        vertical-align: top;\n",
       "    }\n",
       "\n",
       "    .dataframe thead th {\n",
       "        text-align: right;\n",
       "    }\n",
       "</style>\n",
       "<table border=\"1\" class=\"dataframe\">\n",
       "  <thead>\n",
       "    <tr style=\"text-align: right;\">\n",
       "      <th></th>\n",
       "      <th>correlation</th>\n",
       "    </tr>\n",
       "    <tr>\n",
       "      <th>industry_broad</th>\n",
       "      <th></th>\n",
       "    </tr>\n",
       "  </thead>\n",
       "  <tbody>\n",
       "    <tr>\n",
       "      <th>auto</th>\n",
       "      <td>0.502</td>\n",
       "    </tr>\n",
       "    <tr>\n",
       "      <th>chemicals_etc</th>\n",
       "      <td>0.053</td>\n",
       "    </tr>\n",
       "    <tr>\n",
       "      <th>electronics</th>\n",
       "      <td>0.282</td>\n",
       "    </tr>\n",
       "    <tr>\n",
       "      <th>food_drinks_tobacco</th>\n",
       "      <td>0.052</td>\n",
       "    </tr>\n",
       "    <tr>\n",
       "      <th>materials_metals</th>\n",
       "      <td>0.321</td>\n",
       "    </tr>\n",
       "    <tr>\n",
       "      <th>other</th>\n",
       "      <td>0.628</td>\n",
       "    </tr>\n",
       "    <tr>\n",
       "      <th>textile_apparel_leather_etc</th>\n",
       "      <td>0.361</td>\n",
       "    </tr>\n",
       "    <tr>\n",
       "      <th>wood_furniture_paper</th>\n",
       "      <td>0.295</td>\n",
       "    </tr>\n",
       "  </tbody>\n",
       "</table>\n",
       "</div>"
      ],
      "text/plain": [
       "                             correlation\n",
       "industry_broad                          \n",
       "auto                               0.502\n",
       "chemicals_etc                      0.053\n",
       "electronics                        0.282\n",
       "food_drinks_tobacco                0.052\n",
       "materials_metals                   0.321\n",
       "other                              0.628\n",
       "textile_apparel_leather_etc        0.361\n",
       "wood_furniture_paper               0.295"
      ]
     },
     "execution_count": 41,
     "metadata": {},
     "output_type": "execute_result"
    }
   ],
   "source": [
    "# Correlation\n",
    "cor = (\n",
    "    df.groupby(\"industry_broad\")[[\"management\", \"emp_firm\"]]\n",
    "    .corr()\n",
    "    .iloc[0::2, -1]\n",
    "    .reset_index()\n",
    "    .drop([\"level_1\"], axis=1)\n",
    "    .set_index(\"industry_broad\")\n",
    "    .rename({\"emp_firm\": \"correlation\"}, axis=1)\n",
    ")\n",
    "cor.round(3)"
   ]
  },
  {
   "cell_type": "code",
   "execution_count": 42,
   "metadata": {},
   "outputs": [],
   "source": [
    "table41 = (\n",
    "    df.filter([\"emp_firm\", \"industry_broad\", \"management\"])\n",
    "    .groupby(\"industry_broad\")\n",
    "    .agg(Mean=(\"management\", \"mean\"), Obs=(\"management\", \"size\"))\n",
    ")\n",
    "table41[\"Corr\"] = cor[\"correlation\"]"
   ]
  },
  {
   "cell_type": "code",
   "execution_count": 43,
   "metadata": {},
   "outputs": [
    {
     "data": {
      "text/html": [
       "<div>\n",
       "<style scoped>\n",
       "    .dataframe tbody tr th:only-of-type {\n",
       "        vertical-align: middle;\n",
       "    }\n",
       "\n",
       "    .dataframe tbody tr th {\n",
       "        vertical-align: top;\n",
       "    }\n",
       "\n",
       "    .dataframe thead th {\n",
       "        text-align: right;\n",
       "    }\n",
       "</style>\n",
       "<table border=\"1\" class=\"dataframe\">\n",
       "  <thead>\n",
       "    <tr style=\"text-align: right;\">\n",
       "      <th></th>\n",
       "      <th>Mean</th>\n",
       "      <th>Obs</th>\n",
       "      <th>Corr</th>\n",
       "    </tr>\n",
       "  </thead>\n",
       "  <tbody>\n",
       "    <tr>\n",
       "      <th>Auto</th>\n",
       "      <td>3.254</td>\n",
       "      <td>26</td>\n",
       "      <td>0.502</td>\n",
       "    </tr>\n",
       "    <tr>\n",
       "      <th>Chemicals</th>\n",
       "      <td>2.969</td>\n",
       "      <td>69</td>\n",
       "      <td>0.053</td>\n",
       "    </tr>\n",
       "    <tr>\n",
       "      <th>Machinery, equipment, electronics</th>\n",
       "      <td>3.145</td>\n",
       "      <td>36</td>\n",
       "      <td>0.282</td>\n",
       "    </tr>\n",
       "    <tr>\n",
       "      <th>Food, drinks, tobacco</th>\n",
       "      <td>2.871</td>\n",
       "      <td>34</td>\n",
       "      <td>0.052</td>\n",
       "    </tr>\n",
       "    <tr>\n",
       "      <th>Materials, metals</th>\n",
       "      <td>2.849</td>\n",
       "      <td>50</td>\n",
       "      <td>0.321</td>\n",
       "    </tr>\n",
       "    <tr>\n",
       "      <th>Textile, apparel, leather</th>\n",
       "      <td>3.289</td>\n",
       "      <td>10</td>\n",
       "      <td>0.628</td>\n",
       "    </tr>\n",
       "    <tr>\n",
       "      <th>Wood, furniture, paper</th>\n",
       "      <td>2.769</td>\n",
       "      <td>38</td>\n",
       "      <td>0.361</td>\n",
       "    </tr>\n",
       "    <tr>\n",
       "      <th>Other</th>\n",
       "      <td>2.722</td>\n",
       "      <td>37</td>\n",
       "      <td>0.295</td>\n",
       "    </tr>\n",
       "  </tbody>\n",
       "</table>\n",
       "</div>"
      ],
      "text/plain": [
       "                                    Mean  Obs   Corr\n",
       "Auto                               3.254   26  0.502\n",
       "Chemicals                          2.969   69  0.053\n",
       "Machinery, equipment, electronics  3.145   36  0.282\n",
       "Food, drinks, tobacco              2.871   34  0.052\n",
       "Materials, metals                  2.849   50  0.321\n",
       "Textile, apparel, leather          3.289   10  0.628\n",
       "Wood, furniture, paper             2.769   38  0.361\n",
       "Other                              2.722   37  0.295"
      ]
     },
     "execution_count": 43,
     "metadata": {},
     "output_type": "execute_result"
    }
   ],
   "source": [
    "table41.index = [\n",
    "    \"Auto\",\n",
    "    \"Chemicals\",\n",
    "    \"Machinery, equipment, electronics\",\n",
    "    \"Food, drinks, tobacco\",\n",
    "    \"Materials, metals\",\n",
    "    \"Textile, apparel, leather\",\n",
    "    \"Wood, furniture, paper\",\n",
    "    \"Other\",\n",
    "]\n",
    "table41.round(3)\n"
   ]
  },
  {
   "cell_type": "code",
   "execution_count": 44,
   "metadata": {},
   "outputs": [],
   "source": [
    "last_row = (\n",
    "    table41.groupby(lambda _: True)\n",
    "    .agg(Mean=(\"Mean\", \"mean\"), Obs=(\"Obs\", \"sum\"), Corr=(\"Corr\", \"mean\"))\n",
    "    .reset_index(drop=True)\n",
    ")\n",
    "last_row.index = [\"All\"]\n",
    "table41 = pd.concat([table41, last_row])"
   ]
  },
  {
   "cell_type": "code",
   "execution_count": 45,
   "metadata": {},
   "outputs": [],
   "source": [
    "table41 = table41.filter([\"Corr\", \"Mean\", \"Obs\"]).reset_index()\n",
    "table41.columns = [\n",
    "    \"Industry\",\n",
    "    \"Management - employment correlation\",\n",
    "    \"Management score\",\n",
    "    \"Observations\",\n",
    "]"
   ]
  },
  {
   "cell_type": "code",
   "execution_count": 46,
   "metadata": {},
   "outputs": [
    {
     "data": {
      "text/html": [
       "<div>\n",
       "<style scoped>\n",
       "    .dataframe tbody tr th:only-of-type {\n",
       "        vertical-align: middle;\n",
       "    }\n",
       "\n",
       "    .dataframe tbody tr th {\n",
       "        vertical-align: top;\n",
       "    }\n",
       "\n",
       "    .dataframe thead th {\n",
       "        text-align: right;\n",
       "    }\n",
       "</style>\n",
       "<table border=\"1\" class=\"dataframe\">\n",
       "  <thead>\n",
       "    <tr style=\"text-align: right;\">\n",
       "      <th></th>\n",
       "      <th>Industry</th>\n",
       "      <th>Management - employment correlation</th>\n",
       "      <th>Management score</th>\n",
       "      <th>Observations</th>\n",
       "    </tr>\n",
       "  </thead>\n",
       "  <tbody>\n",
       "    <tr>\n",
       "      <th>0</th>\n",
       "      <td>Auto</td>\n",
       "      <td>0.50</td>\n",
       "      <td>3.25</td>\n",
       "      <td>26</td>\n",
       "    </tr>\n",
       "    <tr>\n",
       "      <th>1</th>\n",
       "      <td>Chemicals</td>\n",
       "      <td>0.05</td>\n",
       "      <td>2.97</td>\n",
       "      <td>69</td>\n",
       "    </tr>\n",
       "    <tr>\n",
       "      <th>2</th>\n",
       "      <td>Machinery, equipment, electronics</td>\n",
       "      <td>0.28</td>\n",
       "      <td>3.15</td>\n",
       "      <td>36</td>\n",
       "    </tr>\n",
       "    <tr>\n",
       "      <th>3</th>\n",
       "      <td>Food, drinks, tobacco</td>\n",
       "      <td>0.05</td>\n",
       "      <td>2.87</td>\n",
       "      <td>34</td>\n",
       "    </tr>\n",
       "    <tr>\n",
       "      <th>4</th>\n",
       "      <td>Materials, metals</td>\n",
       "      <td>0.32</td>\n",
       "      <td>2.85</td>\n",
       "      <td>50</td>\n",
       "    </tr>\n",
       "    <tr>\n",
       "      <th>5</th>\n",
       "      <td>Textile, apparel, leather</td>\n",
       "      <td>0.63</td>\n",
       "      <td>3.29</td>\n",
       "      <td>10</td>\n",
       "    </tr>\n",
       "    <tr>\n",
       "      <th>6</th>\n",
       "      <td>Wood, furniture, paper</td>\n",
       "      <td>0.36</td>\n",
       "      <td>2.77</td>\n",
       "      <td>38</td>\n",
       "    </tr>\n",
       "    <tr>\n",
       "      <th>7</th>\n",
       "      <td>Other</td>\n",
       "      <td>0.29</td>\n",
       "      <td>2.72</td>\n",
       "      <td>37</td>\n",
       "    </tr>\n",
       "    <tr>\n",
       "      <th>8</th>\n",
       "      <td>All</td>\n",
       "      <td>0.31</td>\n",
       "      <td>2.98</td>\n",
       "      <td>300</td>\n",
       "    </tr>\n",
       "  </tbody>\n",
       "</table>\n",
       "</div>"
      ],
      "text/plain": [
       "                            Industry  Management - employment correlation  \\\n",
       "0                               Auto                                 0.50   \n",
       "1                          Chemicals                                 0.05   \n",
       "2  Machinery, equipment, electronics                                 0.28   \n",
       "3              Food, drinks, tobacco                                 0.05   \n",
       "4                  Materials, metals                                 0.32   \n",
       "5          Textile, apparel, leather                                 0.63   \n",
       "6             Wood, furniture, paper                                 0.36   \n",
       "7                              Other                                 0.29   \n",
       "8                                All                                 0.31   \n",
       "\n",
       "   Management score  Observations  \n",
       "0              3.25            26  \n",
       "1              2.97            69  \n",
       "2              3.15            36  \n",
       "3              2.87            34  \n",
       "4              2.85            50  \n",
       "5              3.29            10  \n",
       "6              2.77            38  \n",
       "7              2.72            37  \n",
       "8              2.98           300  "
      ]
     },
     "execution_count": 46,
     "metadata": {},
     "output_type": "execute_result"
    }
   ],
   "source": [
    "table41.round(2)\n"
   ]
  }
 ],
 "metadata": {
  "kernelspec": {
   "display_name": "daenv",
   "language": "python",
   "name": "python3"
  },
  "language_info": {
   "codemirror_mode": {
    "name": "ipython",
    "version": 3
   },
   "file_extension": ".py",
   "mimetype": "text/x-python",
   "name": "python",
   "nbconvert_exporter": "python",
   "pygments_lexer": "ipython3",
   "version": "3.12.4"
  }
 },
 "nbformat": 4,
 "nbformat_minor": 4
}
