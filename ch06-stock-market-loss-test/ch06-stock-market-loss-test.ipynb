{
 "cells": [
  {
   "cell_type": "markdown",
   "id": "f0ecf2f6",
   "metadata": {},
   "source": [
    "#### Prepared for Gabor's Data Analysis\n",
    "\n",
    "### Data Analysis for Business, Economics, and Policy\n",
    "by Gabor Bekes and  Gabor Kezdi\n",
    " \n",
    "Cambridge University Press 2021\n",
    "\n",
    "**[gabors-data-analysis.com ](https://gabors-data-analysis.com/)**\n",
    "\n",
    " License: Free to share, modify and use for educational purposes. \n",
    " Not to be used for commercial purposes.\n",
    "\n",
    "### Chapter 05\n",
    "**CH05A What Likelihood of Loss to Expect on a Stock Portfolio?**\n",
    "\n",
    "using the sp500 dataset\n",
    "\n",
    "version 0.91 2021-10-21"
   ]
  },
  {
   "cell_type": "code",
   "execution_count": 1,
   "id": "0adb08a8",
   "metadata": {},
   "outputs": [],
   "source": [
    "import os\n",
    "import sys\n",
    "import warnings\n",
    "\n",
    "import numpy as np\n",
    "import pandas as pd\n",
    "from scipy import stats\n",
    "\n",
    "warnings.filterwarnings(\"ignore\")\n"
   ]
  },
  {
   "cell_type": "code",
   "execution_count": 2,
   "id": "04062aae",
   "metadata": {},
   "outputs": [],
   "source": [
    "# Current script folder\n",
    "current_path = os.getcwd()\n",
    "dirname = current_path.split(\"da_case_studies\")[0]\n",
    "\n",
    "# location folders\n",
    "data_in = dirname + \"da_data_repo/sp500/clean/\"\n",
    "data_out = dirname + \"da_case_studies/ch05-stock-market-loss-generalize/\"\n",
    "output = dirname + \"da_case_studies/ch05-stock-market-loss-generalize/output/\"\n",
    "func = dirname + \"da_case_studies/ch00-tech-prep/\"\n",
    "sys.path.append(func)\n"
   ]
  },
  {
   "cell_type": "code",
   "execution_count": 3,
   "id": "995509fe",
   "metadata": {},
   "outputs": [],
   "source": [
    "sp500 = pd.read_csv(data_in + \"SP500_2006_16_data.csv\")\n",
    "# sp500 = pd.read_csv(\"https://osf.io/h64z2/download\")"
   ]
  },
  {
   "cell_type": "code",
   "execution_count": 4,
   "id": "a7377b5f",
   "metadata": {},
   "outputs": [],
   "source": [
    "sp500 = sp500.replace(\"\", np.nan).replace(\"#N/A\", np.nan).dropna().reset_index(drop=True)"
   ]
  },
  {
   "cell_type": "code",
   "execution_count": 5,
   "id": "da6e95c8",
   "metadata": {},
   "outputs": [],
   "source": [
    "sp500[\"pct_return\"] = sp500[\"VALUE\"].pct_change() * 100\n"
   ]
  },
  {
   "cell_type": "code",
   "execution_count": 6,
   "id": "bd72bad0",
   "metadata": {},
   "outputs": [],
   "source": [
    "sp500.loc[1:, \"loss5\"] = np.where(sp500[\"pct_return\"].dropna() < -5, 1, 0)"
   ]
  },
  {
   "cell_type": "code",
   "execution_count": 7,
   "id": "6a1e1c93",
   "metadata": {},
   "outputs": [
    {
     "data": {
      "text/plain": [
       "TtestResult(statistic=-3.3862058433914672, pvalue=0.0007195412199398962, df=2517)"
      ]
     },
     "execution_count": 7,
     "metadata": {},
     "output_type": "execute_result"
    }
   ],
   "source": [
    "# t-test to show p-value of two sided. One sided p-value is p/2\n",
    "\n",
    "stats.ttest_1samp(sp500[\"loss5\"], popmean=0.01, nan_policy=\"omit\")\n"
   ]
  },
  {
   "cell_type": "code",
   "execution_count": 8,
   "id": "67f1310e",
   "metadata": {},
   "outputs": [
    {
     "data": {
      "text/plain": [
       "0.005163"
      ]
     },
     "execution_count": 8,
     "metadata": {},
     "output_type": "execute_result"
    }
   ],
   "source": [
    "sp500[\"loss5\"].mean().round(6)\n"
   ]
  },
  {
   "cell_type": "code",
   "execution_count": null,
   "id": "3e959bb7",
   "metadata": {},
   "outputs": [],
   "source": []
  }
 ],
 "metadata": {
  "kernelspec": {
   "display_name": "daenv",
   "language": "python",
   "name": "python3"
  },
  "language_info": {
   "codemirror_mode": {
    "name": "ipython",
    "version": 3
   },
   "file_extension": ".py",
   "mimetype": "text/x-python",
   "name": "python",
   "nbconvert_exporter": "python",
   "pygments_lexer": "ipython3",
   "version": "3.12.4"
  }
 },
 "nbformat": 4,
 "nbformat_minor": 5
}
