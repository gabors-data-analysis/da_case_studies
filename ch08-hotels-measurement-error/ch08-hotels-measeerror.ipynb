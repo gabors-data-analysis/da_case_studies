{
 "cells": [
  {
   "cell_type": "markdown",
   "metadata": {},
   "source": [
    "#### Prepared for Gabor's Data Analysis\n",
    "\n",
    "### Data Analysis for Business, Economics, and Policy\n",
    "by Gabor Bekes and  Gabor Kezdi\n",
    " \n",
    "Cambridge University Press 2021\n",
    "\n",
    "**[gabors-data-analysis.com ](https://gabors-data-analysis.com/)**\n",
    "\n",
    " License: Free to share, modify and use for educational purposes. \n",
    " Not to be used for commercial purposes.\n",
    "\n",
    "### Chapter 08\n",
    "**CH08C Measurement error in hotel ratings**\n",
    "\n",
    "using the hotels-vienna dataset\n",
    "\n",
    "version 1.0 2021-05-05"
   ]
  },
  {
   "cell_type": "code",
   "execution_count": 16,
   "metadata": {},
   "outputs": [],
   "source": [
    "import os\n",
    "import sys\n",
    "import warnings\n",
    "\n",
    "import numpy as np\n",
    "import pandas as pd\n",
    "import statsmodels.formula.api as smf\n",
    "import seaborn as sns\n",
    "import matplotlib.pyplot as plt\n",
    "\n",
    "warnings.filterwarnings(\"ignore\")"
   ]
  },
  {
   "cell_type": "code",
   "execution_count": 17,
   "metadata": {},
   "outputs": [],
   "source": [
    "\n",
    "# Current script folder\n",
    "current_path = os.getcwd()\n",
    "dirname = current_path.split(\"da_case_studies\")[0]\n",
    "\n",
    "# location folders\n",
    "data_in = dirname + \"da_data_repo/hotels-vienna/clean/\"\n",
    "data_out = dirname + \"da_case_studies/ch08-hotels-measurement-error/\"\n",
    "output = dirname + \"da_case_studies/ch08-hotels-measurement-error/output/\"\n",
    "func = dirname + \"da_case_studies/ch00-tech-prep/\"\n",
    "sys.path.append(func)\n"
   ]
  },
  {
   "cell_type": "code",
   "execution_count": 18,
   "metadata": {},
   "outputs": [],
   "source": [
    "# Import the prewritten helper functions\n",
    "import py_helper_functions as da\n",
    "\n",
    "sns.set_theme(rc=da.da_theme, palette=da.color)"
   ]
  },
  {
   "cell_type": "code",
   "execution_count": 19,
   "metadata": {},
   "outputs": [],
   "source": [
    "# load vienna\n",
    "hotels = pd.read_csv(data_in + \"hotels-vienna.csv\")\n",
    "#data = pd.read_csv(\"https://osf.io/y6jvb/download\")"
   ]
  },
  {
   "cell_type": "markdown",
   "metadata": {},
   "source": [
    "#### SAMPLE SELECTION"
   ]
  },
  {
   "cell_type": "code",
   "execution_count": 20,
   "metadata": {},
   "outputs": [],
   "source": [
    "hotels = hotels.loc[\n",
    "    (hotels[\"accommodation_type\"] == \"Hotel\")\n",
    "    & (hotels[\"city_actual\"] == \"Vienna\")\n",
    "    & (hotels[\"stars\"] >= 3)\n",
    "    & (hotels[\"stars\"] <= 4)\n",
    "    & (hotels[\"stars\"].notna())\n",
    "    & (hotels[\"price\"] <= 600)\n",
    "]"
   ]
  },
  {
   "cell_type": "markdown",
   "metadata": {},
   "source": [
    "### Look at measurement error by rating count\n"
   ]
  },
  {
   "cell_type": "code",
   "execution_count": 21,
   "metadata": {},
   "outputs": [],
   "source": [
    "hotels[\"lnprice\"] = np.log(hotels[\"price\"])"
   ]
  },
  {
   "cell_type": "code",
   "execution_count": 22,
   "metadata": {},
   "outputs": [],
   "source": [
    "# define cutoffs\n",
    "k1 = 100\n",
    "k2 = 200"
   ]
  },
  {
   "cell_type": "code",
   "execution_count": 23,
   "metadata": {},
   "outputs": [],
   "source": [
    "reg_me = smf.ols(\n",
    "    formula=\"lnprice ~ rating\", data=hotels.loc[hotels[\"rating_count\"] < k1, :]\n",
    ")\n",
    "reg_me_fit = reg_me.fit()"
   ]
  },
  {
   "cell_type": "code",
   "execution_count": 24,
   "metadata": {
    "scrolled": false
   },
   "outputs": [
    {
     "name": "stdout",
     "output_type": "stream",
     "text": [
      "                            OLS Regression Results                            \n",
      "==============================================================================\n",
      "Dep. Variable:                lnprice   R-squared:                       0.244\n",
      "Model:                            OLS   Adj. R-squared:                  0.234\n",
      "Method:                 Least Squares   F-statistic:                     24.20\n",
      "Date:                Thu, 01 May 2025   Prob (F-statistic):           4.99e-06\n",
      "Time:                        11:14:40   Log-Likelihood:                -6.3405\n",
      "No. Observations:                  77   AIC:                             16.68\n",
      "Df Residuals:                      75   BIC:                             21.37\n",
      "Df Model:                           1                                         \n",
      "Covariance Type:            nonrobust                                         \n",
      "==============================================================================\n",
      "                 coef    std err          t      P>|t|      [0.025      0.975]\n",
      "------------------------------------------------------------------------------\n",
      "Intercept      3.1375      0.285     11.025      0.000       2.571       3.704\n",
      "rating         0.3540      0.072      4.920      0.000       0.211       0.497\n",
      "==============================================================================\n",
      "Omnibus:                        5.425   Durbin-Watson:                   1.336\n",
      "Prob(Omnibus):                  0.066   Jarque-Bera (JB):                4.960\n",
      "Skew:                           0.618   Prob(JB):                       0.0837\n",
      "Kurtosis:                       3.145   Cond. No.                         39.4\n",
      "==============================================================================\n",
      "\n",
      "Notes:\n",
      "[1] Standard Errors assume that the covariance matrix of the errors is correctly specified.\n"
     ]
    }
   ],
   "source": [
    "print(reg_me_fit.summary())\n"
   ]
  },
  {
   "cell_type": "code",
   "execution_count": 25,
   "metadata": {},
   "outputs": [],
   "source": [
    "hotels[\"yhat\"] = reg_me_fit.predict(hotels)\n"
   ]
  },
  {
   "cell_type": "code",
   "execution_count": 26,
   "metadata": {},
   "outputs": [
    {
     "data": {
      "text/html": [
       "<table class=\"simpletable\">\n",
       "<caption>OLS Regression Results</caption>\n",
       "<tr>\n",
       "  <th>Dep. Variable:</th>         <td>lnprice</td>     <th>  R-squared:         </th> <td>   0.194</td>\n",
       "</tr>\n",
       "<tr>\n",
       "  <th>Model:</th>                   <td>OLS</td>       <th>  Adj. R-squared:    </th> <td>   0.180</td>\n",
       "</tr>\n",
       "<tr>\n",
       "  <th>Method:</th>             <td>Least Squares</td>  <th>  F-statistic:       </th> <td>   13.52</td>\n",
       "</tr>\n",
       "<tr>\n",
       "  <th>Date:</th>             <td>Thu, 01 May 2025</td> <th>  Prob (F-statistic):</th> <td>0.000531</td>\n",
       "</tr>\n",
       "<tr>\n",
       "  <th>Time:</th>                 <td>11:14:40</td>     <th>  Log-Likelihood:    </th> <td> -20.301</td>\n",
       "</tr>\n",
       "<tr>\n",
       "  <th>No. Observations:</th>      <td>    58</td>      <th>  AIC:               </th> <td>   44.60</td>\n",
       "</tr>\n",
       "<tr>\n",
       "  <th>Df Residuals:</th>          <td>    56</td>      <th>  BIC:               </th> <td>   48.72</td>\n",
       "</tr>\n",
       "<tr>\n",
       "  <th>Df Model:</th>              <td>     1</td>      <th>                     </th>     <td> </td>   \n",
       "</tr>\n",
       "<tr>\n",
       "  <th>Covariance Type:</th>      <td>nonrobust</td>    <th>                     </th>     <td> </td>   \n",
       "</tr>\n",
       "</table>\n",
       "<table class=\"simpletable\">\n",
       "<tr>\n",
       "      <td></td>         <th>coef</th>     <th>std err</th>      <th>t</th>      <th>P>|t|</th>  <th>[0.025</th>    <th>0.975]</th>  \n",
       "</tr>\n",
       "<tr>\n",
       "  <th>Intercept</th> <td>    2.9129</td> <td>    0.482</td> <td>    6.038</td> <td> 0.000</td> <td>    1.946</td> <td>    3.879</td>\n",
       "</tr>\n",
       "<tr>\n",
       "  <th>rating</th>    <td>    0.4380</td> <td>    0.119</td> <td>    3.676</td> <td> 0.001</td> <td>    0.199</td> <td>    0.677</td>\n",
       "</tr>\n",
       "</table>\n",
       "<table class=\"simpletable\">\n",
       "<tr>\n",
       "  <th>Omnibus:</th>       <td>19.349</td> <th>  Durbin-Watson:     </th> <td>   1.496</td>\n",
       "</tr>\n",
       "<tr>\n",
       "  <th>Prob(Omnibus):</th> <td> 0.000</td> <th>  Jarque-Bera (JB):  </th> <td>  27.243</td>\n",
       "</tr>\n",
       "<tr>\n",
       "  <th>Skew:</th>          <td> 1.223</td> <th>  Prob(JB):          </th> <td>1.21e-06</td>\n",
       "</tr>\n",
       "<tr>\n",
       "  <th>Kurtosis:</th>      <td> 5.301</td> <th>  Cond. No.          </th> <td>    45.1</td>\n",
       "</tr>\n",
       "</table><br/><br/>Notes:<br/>[1] Standard Errors assume that the covariance matrix of the errors is correctly specified."
      ],
      "text/latex": [
       "\\begin{center}\n",
       "\\begin{tabular}{lclc}\n",
       "\\toprule\n",
       "\\textbf{Dep. Variable:}    &     lnprice      & \\textbf{  R-squared:         } &     0.194   \\\\\n",
       "\\textbf{Model:}            &       OLS        & \\textbf{  Adj. R-squared:    } &     0.180   \\\\\n",
       "\\textbf{Method:}           &  Least Squares   & \\textbf{  F-statistic:       } &     13.52   \\\\\n",
       "\\textbf{Date:}             & Thu, 01 May 2025 & \\textbf{  Prob (F-statistic):} &  0.000531   \\\\\n",
       "\\textbf{Time:}             &     11:14:40     & \\textbf{  Log-Likelihood:    } &   -20.301   \\\\\n",
       "\\textbf{No. Observations:} &          58      & \\textbf{  AIC:               } &     44.60   \\\\\n",
       "\\textbf{Df Residuals:}     &          56      & \\textbf{  BIC:               } &     48.72   \\\\\n",
       "\\textbf{Df Model:}         &           1      & \\textbf{                     } &             \\\\\n",
       "\\textbf{Covariance Type:}  &    nonrobust     & \\textbf{                     } &             \\\\\n",
       "\\bottomrule\n",
       "\\end{tabular}\n",
       "\\begin{tabular}{lcccccc}\n",
       "                   & \\textbf{coef} & \\textbf{std err} & \\textbf{t} & \\textbf{P$> |$t$|$} & \\textbf{[0.025} & \\textbf{0.975]}  \\\\\n",
       "\\midrule\n",
       "\\textbf{Intercept} &       2.9129  &        0.482     &     6.038  &         0.000        &        1.946    &        3.879     \\\\\n",
       "\\textbf{rating}    &       0.4380  &        0.119     &     3.676  &         0.001        &        0.199    &        0.677     \\\\\n",
       "\\bottomrule\n",
       "\\end{tabular}\n",
       "\\begin{tabular}{lclc}\n",
       "\\textbf{Omnibus:}       & 19.349 & \\textbf{  Durbin-Watson:     } &    1.496  \\\\\n",
       "\\textbf{Prob(Omnibus):} &  0.000 & \\textbf{  Jarque-Bera (JB):  } &   27.243  \\\\\n",
       "\\textbf{Skew:}          &  1.223 & \\textbf{  Prob(JB):          } & 1.21e-06  \\\\\n",
       "\\textbf{Kurtosis:}      &  5.301 & \\textbf{  Cond. No.          } &     45.1  \\\\\n",
       "\\bottomrule\n",
       "\\end{tabular}\n",
       "%\\caption{OLS Regression Results}\n",
       "\\end{center}\n",
       "\n",
       "Notes: \\newline\n",
       " [1] Standard Errors assume that the covariance matrix of the errors is correctly specified."
      ],
      "text/plain": [
       "<class 'statsmodels.iolib.summary.Summary'>\n",
       "\"\"\"\n",
       "                            OLS Regression Results                            \n",
       "==============================================================================\n",
       "Dep. Variable:                lnprice   R-squared:                       0.194\n",
       "Model:                            OLS   Adj. R-squared:                  0.180\n",
       "Method:                 Least Squares   F-statistic:                     13.52\n",
       "Date:                Thu, 01 May 2025   Prob (F-statistic):           0.000531\n",
       "Time:                        11:14:40   Log-Likelihood:                -20.301\n",
       "No. Observations:                  58   AIC:                             44.60\n",
       "Df Residuals:                      56   BIC:                             48.72\n",
       "Df Model:                           1                                         \n",
       "Covariance Type:            nonrobust                                         \n",
       "==============================================================================\n",
       "                 coef    std err          t      P>|t|      [0.025      0.975]\n",
       "------------------------------------------------------------------------------\n",
       "Intercept      2.9129      0.482      6.038      0.000       1.946       3.879\n",
       "rating         0.4380      0.119      3.676      0.001       0.199       0.677\n",
       "==============================================================================\n",
       "Omnibus:                       19.349   Durbin-Watson:                   1.496\n",
       "Prob(Omnibus):                  0.000   Jarque-Bera (JB):               27.243\n",
       "Skew:                           1.223   Prob(JB):                     1.21e-06\n",
       "Kurtosis:                       5.301   Cond. No.                         45.1\n",
       "==============================================================================\n",
       "\n",
       "Notes:\n",
       "[1] Standard Errors assume that the covariance matrix of the errors is correctly specified.\n",
       "\"\"\""
      ]
     },
     "execution_count": 26,
     "metadata": {},
     "output_type": "execute_result"
    }
   ],
   "source": [
    "reg_me2 = smf.ols(\n",
    "    formula=\"lnprice ~ rating\",\n",
    "    data=hotels.loc[(hotels[\"rating_count\"] >= k1) & (hotels[\"rating_count\"] < k2), :],\n",
    ")\n",
    "reg_me_fit2 = reg_me2.fit()\n",
    "reg_me_fit2.summary()"
   ]
  },
  {
   "cell_type": "code",
   "execution_count": 27,
   "metadata": {},
   "outputs": [],
   "source": [
    "hotels[\"yhat2\"] = reg_me_fit2.predict(hotels)\n"
   ]
  },
  {
   "cell_type": "code",
   "execution_count": 28,
   "metadata": {},
   "outputs": [
    {
     "data": {
      "text/html": [
       "<table class=\"simpletable\">\n",
       "<caption>OLS Regression Results</caption>\n",
       "<tr>\n",
       "  <th>Dep. Variable:</th>         <td>lnprice</td>     <th>  R-squared:         </th> <td>   0.244</td>\n",
       "</tr>\n",
       "<tr>\n",
       "  <th>Model:</th>                   <td>OLS</td>       <th>  Adj. R-squared:    </th> <td>   0.233</td>\n",
       "</tr>\n",
       "<tr>\n",
       "  <th>Method:</th>             <td>Least Squares</td>  <th>  F-statistic:       </th> <td>   22.60</td>\n",
       "</tr>\n",
       "<tr>\n",
       "  <th>Date:</th>             <td>Thu, 01 May 2025</td> <th>  Prob (F-statistic):</th> <td>1.03e-05</td>\n",
       "</tr>\n",
       "<tr>\n",
       "  <th>Time:</th>                 <td>11:14:40</td>     <th>  Log-Likelihood:    </th> <td> -4.1624</td>\n",
       "</tr>\n",
       "<tr>\n",
       "  <th>No. Observations:</th>      <td>    72</td>      <th>  AIC:               </th> <td>   12.32</td>\n",
       "</tr>\n",
       "<tr>\n",
       "  <th>Df Residuals:</th>          <td>    70</td>      <th>  BIC:               </th> <td>   16.88</td>\n",
       "</tr>\n",
       "<tr>\n",
       "  <th>Df Model:</th>              <td>     1</td>      <th>                     </th>     <td> </td>   \n",
       "</tr>\n",
       "<tr>\n",
       "  <th>Covariance Type:</th>      <td>nonrobust</td>    <th>                     </th>     <td> </td>   \n",
       "</tr>\n",
       "</table>\n",
       "<table class=\"simpletable\">\n",
       "<tr>\n",
       "      <td></td>         <th>coef</th>     <th>std err</th>      <th>t</th>      <th>P>|t|</th>  <th>[0.025</th>    <th>0.975]</th>  \n",
       "</tr>\n",
       "<tr>\n",
       "  <th>Intercept</th> <td>    2.3895</td> <td>    0.493</td> <td>    4.849</td> <td> 0.000</td> <td>    1.407</td> <td>    3.372</td>\n",
       "</tr>\n",
       "<tr>\n",
       "  <th>rating</th>    <td>    0.5558</td> <td>    0.117</td> <td>    4.754</td> <td> 0.000</td> <td>    0.323</td> <td>    0.789</td>\n",
       "</tr>\n",
       "</table>\n",
       "<table class=\"simpletable\">\n",
       "<tr>\n",
       "  <th>Omnibus:</th>       <td> 2.670</td> <th>  Durbin-Watson:     </th> <td>   1.499</td>\n",
       "</tr>\n",
       "<tr>\n",
       "  <th>Prob(Omnibus):</th> <td> 0.263</td> <th>  Jarque-Bera (JB):  </th> <td>   1.857</td>\n",
       "</tr>\n",
       "<tr>\n",
       "  <th>Skew:</th>          <td>-0.193</td> <th>  Prob(JB):          </th> <td>   0.395</td>\n",
       "</tr>\n",
       "<tr>\n",
       "  <th>Kurtosis:</th>      <td> 2.314</td> <th>  Cond. No.          </th> <td>    71.6</td>\n",
       "</tr>\n",
       "</table><br/><br/>Notes:<br/>[1] Standard Errors assume that the covariance matrix of the errors is correctly specified."
      ],
      "text/latex": [
       "\\begin{center}\n",
       "\\begin{tabular}{lclc}\n",
       "\\toprule\n",
       "\\textbf{Dep. Variable:}    &     lnprice      & \\textbf{  R-squared:         } &     0.244   \\\\\n",
       "\\textbf{Model:}            &       OLS        & \\textbf{  Adj. R-squared:    } &     0.233   \\\\\n",
       "\\textbf{Method:}           &  Least Squares   & \\textbf{  F-statistic:       } &     22.60   \\\\\n",
       "\\textbf{Date:}             & Thu, 01 May 2025 & \\textbf{  Prob (F-statistic):} &  1.03e-05   \\\\\n",
       "\\textbf{Time:}             &     11:14:40     & \\textbf{  Log-Likelihood:    } &   -4.1624   \\\\\n",
       "\\textbf{No. Observations:} &          72      & \\textbf{  AIC:               } &     12.32   \\\\\n",
       "\\textbf{Df Residuals:}     &          70      & \\textbf{  BIC:               } &     16.88   \\\\\n",
       "\\textbf{Df Model:}         &           1      & \\textbf{                     } &             \\\\\n",
       "\\textbf{Covariance Type:}  &    nonrobust     & \\textbf{                     } &             \\\\\n",
       "\\bottomrule\n",
       "\\end{tabular}\n",
       "\\begin{tabular}{lcccccc}\n",
       "                   & \\textbf{coef} & \\textbf{std err} & \\textbf{t} & \\textbf{P$> |$t$|$} & \\textbf{[0.025} & \\textbf{0.975]}  \\\\\n",
       "\\midrule\n",
       "\\textbf{Intercept} &       2.3895  &        0.493     &     4.849  &         0.000        &        1.407    &        3.372     \\\\\n",
       "\\textbf{rating}    &       0.5558  &        0.117     &     4.754  &         0.000        &        0.323    &        0.789     \\\\\n",
       "\\bottomrule\n",
       "\\end{tabular}\n",
       "\\begin{tabular}{lclc}\n",
       "\\textbf{Omnibus:}       &  2.670 & \\textbf{  Durbin-Watson:     } &    1.499  \\\\\n",
       "\\textbf{Prob(Omnibus):} &  0.263 & \\textbf{  Jarque-Bera (JB):  } &    1.857  \\\\\n",
       "\\textbf{Skew:}          & -0.193 & \\textbf{  Prob(JB):          } &    0.395  \\\\\n",
       "\\textbf{Kurtosis:}      &  2.314 & \\textbf{  Cond. No.          } &     71.6  \\\\\n",
       "\\bottomrule\n",
       "\\end{tabular}\n",
       "%\\caption{OLS Regression Results}\n",
       "\\end{center}\n",
       "\n",
       "Notes: \\newline\n",
       " [1] Standard Errors assume that the covariance matrix of the errors is correctly specified."
      ],
      "text/plain": [
       "<class 'statsmodels.iolib.summary.Summary'>\n",
       "\"\"\"\n",
       "                            OLS Regression Results                            \n",
       "==============================================================================\n",
       "Dep. Variable:                lnprice   R-squared:                       0.244\n",
       "Model:                            OLS   Adj. R-squared:                  0.233\n",
       "Method:                 Least Squares   F-statistic:                     22.60\n",
       "Date:                Thu, 01 May 2025   Prob (F-statistic):           1.03e-05\n",
       "Time:                        11:14:40   Log-Likelihood:                -4.1624\n",
       "No. Observations:                  72   AIC:                             12.32\n",
       "Df Residuals:                      70   BIC:                             16.88\n",
       "Df Model:                           1                                         \n",
       "Covariance Type:            nonrobust                                         \n",
       "==============================================================================\n",
       "                 coef    std err          t      P>|t|      [0.025      0.975]\n",
       "------------------------------------------------------------------------------\n",
       "Intercept      2.3895      0.493      4.849      0.000       1.407       3.372\n",
       "rating         0.5558      0.117      4.754      0.000       0.323       0.789\n",
       "==============================================================================\n",
       "Omnibus:                        2.670   Durbin-Watson:                   1.499\n",
       "Prob(Omnibus):                  0.263   Jarque-Bera (JB):                1.857\n",
       "Skew:                          -0.193   Prob(JB):                        0.395\n",
       "Kurtosis:                       2.314   Cond. No.                         71.6\n",
       "==============================================================================\n",
       "\n",
       "Notes:\n",
       "[1] Standard Errors assume that the covariance matrix of the errors is correctly specified.\n",
       "\"\"\""
      ]
     },
     "execution_count": 28,
     "metadata": {},
     "output_type": "execute_result"
    }
   ],
   "source": [
    "reg_me3 = smf.ols(\n",
    "    formula=\"lnprice ~ rating\", data=hotels.loc[hotels[\"rating_count\"] >= k2, :]\n",
    ")\n",
    "reg_me_fit3 = reg_me3.fit()\n",
    "reg_me_fit3.summary()"
   ]
  },
  {
   "cell_type": "code",
   "execution_count": 29,
   "metadata": {},
   "outputs": [],
   "source": [
    "hotels[\"yhat3\"] = reg_me_fit3.predict(hotels)\n"
   ]
  },
  {
   "cell_type": "code",
   "execution_count": 30,
   "metadata": {},
   "outputs": [
    {
     "data": {
      "image/png": "[encoded data removed]",
      "text/plain": [
       "<Figure size 700x550 with 1 Axes>"
      ]
     },
     "metadata": {},
     "output_type": "display_data"
    }
   ],
   "source": [
    "plt.plot(\n",
    "    hotels[\"rating\"], hotels[\"yhat\"], color=da.color[1], linewidth=1.5, label=\"yhat\"\n",
    ")\n",
    "plt.plot(\n",
    "    hotels[\"rating\"], hotels[\"yhat3\"], color=da.color[0], linewidth=1.5, label=\"yhat3\"\n",
    ")\n",
    "\n",
    "plt.text(2.3, 4.4, \"More noisy: # of ratings<100\", fontsize=10, color=da.color[1])\n",
    "plt.text(2.7, 3.6, \"Less noisy: # of ratings>200\", fontsize=10, color=da.color[0])\n",
    "\n",
    "plt.xlim(1.9, 5.1)\n",
    "plt.ylim(3.4, 5.1)\n",
    "plt.xticks(np.arange(2, 5.1, 0.5))\n",
    "plt.yticks(np.arange(3.5, 5.1, 0.5))\n",
    "plt.xlabel(\"Average rating\", fontsize=12)\n",
    "plt.ylabel(\"ln(Hotel price, US dollars)\", fontsize=12)\n",
    "\n",
    "\n",
    "plt.show()"
   ]
  },
  {
   "cell_type": "code",
   "execution_count": null,
   "metadata": {},
   "outputs": [],
   "source": []
  }
 ],
 "metadata": {
  "kernelspec": {
   "display_name": "daenv",
   "language": "python",
   "name": "python3"
  },
  "language_info": {
   "codemirror_mode": {
    "name": "ipython",
    "version": 3
   },
   "file_extension": ".py",
   "mimetype": "text/x-python",
   "name": "python",
   "nbconvert_exporter": "python",
   "pygments_lexer": "ipython3",
   "version": "3.12.4"
  }
 },
 "nbformat": 4,
 "nbformat_minor": 4
}
